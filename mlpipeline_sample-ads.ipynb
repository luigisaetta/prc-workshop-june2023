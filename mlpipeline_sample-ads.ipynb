{
 "cells": [
  {
   "cell_type": "markdown",
   "id": "65f72fb2",
   "metadata": {},
   "source": [
    "### OCI Data Science - ML Pipelines sample notebook with ADS\n",
    "\n",
    "This sample notebook demonstrates how to use ADS to create a pipeline with 3 steps:\n",
    " * the first step sets a paramter for the next step\n",
    " * the second step creates a data table with the number of rows defined in the first step. generated data is random. the data table is then saved to object storage and the name and location of the data is saved as a paramter for the next step.\n",
    " * the third step reads the location of the data and then the data table from the previous step.\n",
    " \n",
    " Note: the notebook creates the pipeline and runs it, however the code itself for the steps is located in the 3 zip files that should be attached to this notebook.\n",
    " \n",
    "<details>\n",
    "<summary><font size=\"2\">Check for Public Internet Access</font></summary>\n",
    "\n",
    "```python\n",
    "import requests\n",
    "response = requests.get(\"https://oracle.com\")\n",
    "assert response.status_code==200, \"Internet connection failed\"\n",
    "```\n",
    "</details>\n",
    "<details>\n",
    "<summary><font size=\"2\">Helpful Documentation </font></summary>\n",
    "<ul><li><a href=\"https://docs.cloud.oracle.com/en-us/iaas/data-science/using/data-science.htm\">Data Science Service Documentation</a></li>\n",
    "<li><a href=\"https://docs.cloud.oracle.com/iaas/tools/ads-sdk/latest/index.html\">ADS documentation</a></li>\n",
    "</ul>\n",
    "</details>\n",
    "<details>\n",
    "<summary><font size=\"2\">Typical Cell Imports and Settings for ADS</font></summary>\n",
    "\n",
    "```python\n",
    "%load_ext autoreload\n",
    "%autoreload 2\n",
    "%matplotlib inline\n",
    "\n",
    "import warnings\n",
    "warnings.filterwarnings('ignore')\n",
    "\n",
    "import logging\n",
    "logging.basicConfig(format='%(levelname)s:%(message)s', level=logging.ERROR)\n",
    "\n",
    "import ads\n",
    "from ads.dataset.factory import DatasetFactory\n",
    "from ads.automl.provider import OracleAutoMLProvider\n",
    "from ads.automl.driver import AutoML\n",
    "from ads.evaluations.evaluator import ADSEvaluator\n",
    "from ads.common.data import ADSData\n",
    "from ads.explanations.explainer import ADSExplainer\n",
    "from ads.explanations.mlx_global_explainer import MLXGlobalExplainer\n",
    "from ads.explanations.mlx_local_explainer import MLXLocalExplainer\n",
    "from ads.catalog.model import ModelCatalog\n",
    "from ads.common.model_artifact import ModelArtifact\n",
    "```\n",
    "</details>\n",
    "<details>\n",
    "<summary><font size=\"2\">Useful Environment Variables</font></summary>\n",
    "\n",
    "```python\n",
    "import os\n",
    "print(os.environ[\"NB_SESSION_COMPARTMENT_OCID\"])\n",
    "print(os.environ[\"PROJECT_OCID\"])\n",
    "print(os.environ[\"USER_OCID\"])\n",
    "print(os.environ[\"TENANCY_OCID\"])\n",
    "print(os.environ[\"NB_REGION\"])\n",
    "```\n",
    "</details>"
   ]
  },
  {
   "cell_type": "code",
   "execution_count": 1,
   "id": "85096d28",
   "metadata": {
    "vscode": {
     "languageId": "python"
    }
   },
   "outputs": [],
   "source": [
    "import oci\n",
    "import ads\n",
    "import os\n",
    "from os import environ\n",
    "from ads.catalog.project import ProjectCatalog"
   ]
  },
  {
   "cell_type": "code",
   "execution_count": 2,
   "id": "94feac60",
   "metadata": {
    "vscode": {
     "languageId": "python"
    }
   },
   "outputs": [
    {
     "name": "stdout",
     "output_type": "stream",
     "text": [
      "2.8.5\n"
     ]
    }
   ],
   "source": [
    "# make sure you are using ADS version 2.8 or above\n",
    "print(ads.__version__)"
   ]
  },
  {
   "cell_type": "code",
   "execution_count": 3,
   "id": "b3cfa9c3",
   "metadata": {
    "vscode": {
     "languageId": "python"
    }
   },
   "outputs": [],
   "source": [
    "if 'NB_SESSION_COMPARTMENT_OCID' in os.environ:\n",
    "    # using the notebook's compartment if running on OCI Data Science Notebook Session\n",
    "    compartment_id = os.environ['NB_SESSION_COMPARTMENT_OCID']\n",
    "else:\n",
    "    # set the compartment OCID if you are working locally\n",
    "    compartment_id = '<YOUR_COMPARTMENT_OCID>'"
   ]
  },
  {
   "cell_type": "code",
   "execution_count": 4,
   "id": "3c4d200c",
   "metadata": {
    "vscode": {
     "languageId": "python"
    }
   },
   "outputs": [
    {
     "name": "stdout",
     "output_type": "stream",
     "text": [
      "using Resource Principal for auth\n"
     ]
    }
   ],
   "source": [
    "# this will work whether working on a local machine (using API key) or in OCI Notebook Session (using Resource Principal)\n",
    "if \"OCI_RESOURCE_PRINCIPAL_VERSION\" in os.environ:\n",
    "    # Use resource principal\n",
    "    print(\"using Resource Principal for auth\")\n",
    "    ads.set_auth(auth=\"resource_principal\")\n",
    "else:\n",
    "    # Use api_key with config file\n",
    "    print(\"using API key for auth\")\n",
    "    ads.set_auth(auth=\"api_key\")    "
   ]
  },
  {
   "cell_type": "code",
   "execution_count": 5,
   "id": "919197e3",
   "metadata": {
    "vscode": {
     "languageId": "python"
    }
   },
   "outputs": [
    {
     "data": {
      "text/html": [
       "<style type=\"text/css\">\n",
       "#T_40757_row0_col3, #T_40757_row1_col3, #T_40757_row2_col3, #T_40757_row3_col3, #T_40757_row4_col3, #T_40757_row5_col3, #T_40757_row6_col3, #T_40757_row7_col3, #T_40757_row8_col3, #T_40757_row9_col3, #T_40757_row10_col3, #T_40757_row11_col3, #T_40757_row12_col3, #T_40757_row13_col3 {\n",
       "  color: green;\n",
       "}\n",
       "</style>\n",
       "<table id=\"T_40757\">\n",
       "  <thead>\n",
       "    <tr>\n",
       "      <th class=\"blank level0\" >&nbsp;</th>\n",
       "      <th id=\"T_40757_level0_col0\" class=\"col_heading level0 col0\" >display_name</th>\n",
       "      <th id=\"T_40757_level0_col1\" class=\"col_heading level0 col1\" >description</th>\n",
       "      <th id=\"T_40757_level0_col2\" class=\"col_heading level0 col2\" >time_created</th>\n",
       "      <th id=\"T_40757_level0_col3\" class=\"col_heading level0 col3\" >lifecycle_state</th>\n",
       "      <th id=\"T_40757_level0_col4\" class=\"col_heading level0 col4\" >user_name</th>\n",
       "      <th id=\"T_40757_level0_col5\" class=\"col_heading level0 col5\" >compartment_id</th>\n",
       "      <th id=\"T_40757_level0_col6\" class=\"col_heading level0 col6\" >freeform_tags</th>\n",
       "      <th id=\"T_40757_level0_col7\" class=\"col_heading level0 col7\" >defined_tags</th>\n",
       "    </tr>\n",
       "    <tr>\n",
       "      <th class=\"index_name level0\" >id</th>\n",
       "      <th class=\"blank col0\" >&nbsp;</th>\n",
       "      <th class=\"blank col1\" >&nbsp;</th>\n",
       "      <th class=\"blank col2\" >&nbsp;</th>\n",
       "      <th class=\"blank col3\" >&nbsp;</th>\n",
       "      <th class=\"blank col4\" >&nbsp;</th>\n",
       "      <th class=\"blank col5\" >&nbsp;</th>\n",
       "      <th class=\"blank col6\" >&nbsp;</th>\n",
       "      <th class=\"blank col7\" >&nbsp;</th>\n",
       "    </tr>\n",
       "  </thead>\n",
       "  <tbody>\n",
       "    <tr>\n",
       "      <th id=\"T_40757_level0_row0\" class=\"row_heading level0 row0\" >6sggta</th>\n",
       "      <td id=\"T_40757_row0_col0\" class=\"data row0 col0\" >workshop-procco</td>\n",
       "      <td id=\"T_40757_row0_col1\" class=\"data row0 col1\" >None</td>\n",
       "      <td id=\"T_40757_row0_col2\" class=\"data row0 col2\" >2023-06-06 08:39:21</td>\n",
       "      <td id=\"T_40757_row0_col3\" class=\"data row0 col3\" >ACTIVE</td>\n",
       "      <td id=\"T_40757_row0_col4\" class=\"data row0 col4\" ></td>\n",
       "      <td id=\"T_40757_row0_col5\" class=\"data row0 col5\" >...fe6h3a</td>\n",
       "      <td id=\"T_40757_row0_col6\" class=\"data row0 col6\" >{}</td>\n",
       "      <td id=\"T_40757_row0_col7\" class=\"data row0 col7\" >{'default-tags': {'CreatedBy': 'oracleidentitycloudservice/luigi.saetta@oracle.com'}}</td>\n",
       "    </tr>\n",
       "    <tr>\n",
       "      <th id=\"T_40757_level0_row1\" class=\"row_heading level0 row1\" >kzikxq</th>\n",
       "      <td id=\"T_40757_row1_col0\" class=\"data row1 col0\" >Notartel</td>\n",
       "      <td id=\"T_40757_row1_col1\" class=\"data row1 col1\" >All the test for the Face Verification poC in Notartel</td>\n",
       "      <td id=\"T_40757_row1_col2\" class=\"data row1 col2\" >2023-04-12 08:43:29</td>\n",
       "      <td id=\"T_40757_row1_col3\" class=\"data row1 col3\" >ACTIVE</td>\n",
       "      <td id=\"T_40757_row1_col4\" class=\"data row1 col4\" ></td>\n",
       "      <td id=\"T_40757_row1_col5\" class=\"data row1 col5\" >...fe6h3a</td>\n",
       "      <td id=\"T_40757_row1_col6\" class=\"data row1 col6\" >{}</td>\n",
       "      <td id=\"T_40757_row1_col7\" class=\"data row1 col7\" >{'default-tags': {'CreatedBy': 'oracleidentitycloudservice/luigi.saetta@oracle.com'}}</td>\n",
       "    </tr>\n",
       "    <tr>\n",
       "      <th id=\"T_40757_level0_row2\" class=\"row_heading level0 row2\" >6arjeq</th>\n",
       "      <td id=\"T_40757_row2_col0\" class=\"data row2 col0\" >Sisal</td>\n",
       "      <td id=\"T_40757_row2_col1\" class=\"data row2 col1\" >None</td>\n",
       "      <td id=\"T_40757_row2_col2\" class=\"data row2 col2\" >2023-02-23 09:14:29</td>\n",
       "      <td id=\"T_40757_row2_col3\" class=\"data row2 col3\" >ACTIVE</td>\n",
       "      <td id=\"T_40757_row2_col4\" class=\"data row2 col4\" ></td>\n",
       "      <td id=\"T_40757_row2_col5\" class=\"data row2 col5\" >...fe6h3a</td>\n",
       "      <td id=\"T_40757_row2_col6\" class=\"data row2 col6\" >{}</td>\n",
       "      <td id=\"T_40757_row2_col7\" class=\"data row2 col7\" >{'default-tags': {'CreatedBy': 'oracleidentitycloudservice/luigi.saetta@oracle.com'}}</td>\n",
       "    </tr>\n",
       "    <tr>\n",
       "      <th id=\"T_40757_level0_row3\" class=\"row_heading level0 row3\" >irb5pq</th>\n",
       "      <td id=\"T_40757_row3_col0\" class=\"data row3 col0\" >enav-whisper-batch</td>\n",
       "      <td id=\"T_40757_row3_col1\" class=\"data row3 col1\" >Strumenti per il training di Whisper con JOBS e pipelines</td>\n",
       "      <td id=\"T_40757_row3_col2\" class=\"data row3 col2\" >2023-02-13 09:09:58</td>\n",
       "      <td id=\"T_40757_row3_col3\" class=\"data row3 col3\" >ACTIVE</td>\n",
       "      <td id=\"T_40757_row3_col4\" class=\"data row3 col4\" ></td>\n",
       "      <td id=\"T_40757_row3_col5\" class=\"data row3 col5\" >...fe6h3a</td>\n",
       "      <td id=\"T_40757_row3_col6\" class=\"data row3 col6\" >{}</td>\n",
       "      <td id=\"T_40757_row3_col7\" class=\"data row3 col7\" >{'default-tags': {'CreatedBy': 'oracleidentitycloudservice/luigi.saetta@oracle.com'}}</td>\n",
       "    </tr>\n",
       "    <tr>\n",
       "      <th id=\"T_40757_level0_row4\" class=\"row_heading level0 row4\" >woqoxa</th>\n",
       "      <td id=\"T_40757_row4_col0\" class=\"data row4 col0\" >buildings_segmentation</td>\n",
       "      <td id=\"T_40757_row4_col1\" class=\"data row4 col1\" >None</td>\n",
       "      <td id=\"T_40757_row4_col2\" class=\"data row4 col2\" >2023-02-01 05:22:15</td>\n",
       "      <td id=\"T_40757_row4_col3\" class=\"data row4 col3\" >ACTIVE</td>\n",
       "      <td id=\"T_40757_row4_col4\" class=\"data row4 col4\" ></td>\n",
       "      <td id=\"T_40757_row4_col5\" class=\"data row4 col5\" >...fe6h3a</td>\n",
       "      <td id=\"T_40757_row4_col6\" class=\"data row4 col6\" >{}</td>\n",
       "      <td id=\"T_40757_row4_col7\" class=\"data row4 col7\" >{'default-tags': {'CreatedBy': 'oracleidentitycloudservice/luigi.saetta@oracle.com'}}</td>\n",
       "    </tr>\n",
       "    <tr>\n",
       "      <th id=\"T_40757_level0_row5\" class=\"row_heading level0 row5\" >6ybhga</th>\n",
       "      <td id=\"T_40757_row5_col0\" class=\"data row5 col0\" >ml_pipelines</td>\n",
       "      <td id=\"T_40757_row5_col1\" class=\"data row5 col1\" >This projects contains all the test done on ML pipelines, since GA Jan 2023</td>\n",
       "      <td id=\"T_40757_row5_col2\" class=\"data row5 col2\" >2023-01-30 06:23:07</td>\n",
       "      <td id=\"T_40757_row5_col3\" class=\"data row5 col3\" >ACTIVE</td>\n",
       "      <td id=\"T_40757_row5_col4\" class=\"data row5 col4\" ></td>\n",
       "      <td id=\"T_40757_row5_col5\" class=\"data row5 col5\" >...fe6h3a</td>\n",
       "      <td id=\"T_40757_row5_col6\" class=\"data row5 col6\" >{}</td>\n",
       "      <td id=\"T_40757_row5_col7\" class=\"data row5 col7\" >{'default-tags': {'CreatedBy': 'oracleidentitycloudservice/luigi.saetta@oracle.com'}}</td>\n",
       "    </tr>\n",
       "    <tr>\n",
       "      <th id=\"T_40757_level0_row6\" class=\"row_heading level0 row6\" >lcsfvq</th>\n",
       "      <td id=\"T_40757_row6_col0\" class=\"data row6 col0\" >water_meter</td>\n",
       "      <td id=\"T_40757_row6_col1\" class=\"data row6 col1\" >water meter and jobs. Tutti i componenti della soluzione sviluppata inizialmente per l'acquedotto Fiora</td>\n",
       "      <td id=\"T_40757_row6_col2\" class=\"data row6 col2\" >2022-12-26 14:22:51</td>\n",
       "      <td id=\"T_40757_row6_col3\" class=\"data row6 col3\" >ACTIVE</td>\n",
       "      <td id=\"T_40757_row6_col4\" class=\"data row6 col4\" ></td>\n",
       "      <td id=\"T_40757_row6_col5\" class=\"data row6 col5\" >...fe6h3a</td>\n",
       "      <td id=\"T_40757_row6_col6\" class=\"data row6 col6\" >{}</td>\n",
       "      <td id=\"T_40757_row6_col7\" class=\"data row6 col7\" >{'default-tags': {'CreatedBy': 'oracleidentitycloudservice/luigi.saetta@oracle.com'}}</td>\n",
       "    </tr>\n",
       "    <tr>\n",
       "      <th id=\"T_40757_level0_row7\" class=\"row_heading level0 row7\" >6mx6kq</th>\n",
       "      <td id=\"T_40757_row7_col0\" class=\"data row7 col0\" >pytorch-on-oci</td>\n",
       "      <td id=\"T_40757_row7_col1\" class=\"data row7 col1\" >contiene tutto quanto sviluppato nell'ambito del mio progetto PyTorch on OCI Data Science</td>\n",
       "      <td id=\"T_40757_row7_col2\" class=\"data row7 col2\" >2022-10-16 15:28:24</td>\n",
       "      <td id=\"T_40757_row7_col3\" class=\"data row7 col3\" >ACTIVE</td>\n",
       "      <td id=\"T_40757_row7_col4\" class=\"data row7 col4\" ></td>\n",
       "      <td id=\"T_40757_row7_col5\" class=\"data row7 col5\" >...fe6h3a</td>\n",
       "      <td id=\"T_40757_row7_col6\" class=\"data row7 col6\" >{}</td>\n",
       "      <td id=\"T_40757_row7_col7\" class=\"data row7 col7\" >{'default-tags': {'CreatedBy': 'oracleidentitycloudservice/luigi.saetta@oracle.com'}}</td>\n",
       "    </tr>\n",
       "    <tr>\n",
       "      <th id=\"T_40757_level0_row8\" class=\"row_heading level0 row8\" >k5ukya</th>\n",
       "      <td id=\"T_40757_row8_col0\" class=\"data row8 col0\" >5class-bitron</td>\n",
       "      <td id=\"T_40757_row8_col1\" class=\"data row8 col1\" >None</td>\n",
       "      <td id=\"T_40757_row8_col2\" class=\"data row8 col2\" >2022-09-18 13:35:01</td>\n",
       "      <td id=\"T_40757_row8_col3\" class=\"data row8 col3\" >ACTIVE</td>\n",
       "      <td id=\"T_40757_row8_col4\" class=\"data row8 col4\" ></td>\n",
       "      <td id=\"T_40757_row8_col5\" class=\"data row8 col5\" >...fe6h3a</td>\n",
       "      <td id=\"T_40757_row8_col6\" class=\"data row8 col6\" >{}</td>\n",
       "      <td id=\"T_40757_row8_col7\" class=\"data row8 col7\" >{'default-tags': {'CreatedBy': 'oracleidentitycloudservice/luigi.saetta@oracle.com'}}</td>\n",
       "    </tr>\n",
       "    <tr>\n",
       "      <th id=\"T_40757_level0_row9\" class=\"row_heading level0 row9\" >35an5a</th>\n",
       "      <td id=\"T_40757_row9_col0\" class=\"data row9 col0\" >enav-p100</td>\n",
       "      <td id=\"T_40757_row9_col1\" class=\"data row9 col1\" >Qui gli strumenti per creare i dataset atco2</td>\n",
       "      <td id=\"T_40757_row9_col2\" class=\"data row9 col2\" >2022-08-09 08:39:58</td>\n",
       "      <td id=\"T_40757_row9_col3\" class=\"data row9 col3\" >ACTIVE</td>\n",
       "      <td id=\"T_40757_row9_col4\" class=\"data row9 col4\" ></td>\n",
       "      <td id=\"T_40757_row9_col5\" class=\"data row9 col5\" >...fe6h3a</td>\n",
       "      <td id=\"T_40757_row9_col6\" class=\"data row9 col6\" >{}</td>\n",
       "      <td id=\"T_40757_row9_col7\" class=\"data row9 col7\" >{'default-tags': {'CreatedBy': 'oracleidentitycloudservice/luigi.saetta@oracle.com'}}</td>\n",
       "    </tr>\n",
       "    <tr>\n",
       "      <th id=\"T_40757_level0_row10\" class=\"row_heading level0 row10\" >m35wxa</th>\n",
       "      <td id=\"T_40757_row10_col0\" class=\"data row10 col0\" >data-drift</td>\n",
       "      <td id=\"T_40757_row10_col1\" class=\"data row10 col1\" >In this project I have collected all the work done in Summer 2022 around the subject of tools for Data Drift detection</td>\n",
       "      <td id=\"T_40757_row10_col2\" class=\"data row10 col2\" >2022-06-21 12:06:14</td>\n",
       "      <td id=\"T_40757_row10_col3\" class=\"data row10 col3\" >ACTIVE</td>\n",
       "      <td id=\"T_40757_row10_col4\" class=\"data row10 col4\" ></td>\n",
       "      <td id=\"T_40757_row10_col5\" class=\"data row10 col5\" >...fe6h3a</td>\n",
       "      <td id=\"T_40757_row10_col6\" class=\"data row10 col6\" >{}</td>\n",
       "      <td id=\"T_40757_row10_col7\" class=\"data row10 col7\" >{'default-tags': {'CreatedBy': 'oracleidentitycloudservice/luigi.saetta@oracle.com'}}</td>\n",
       "    </tr>\n",
       "    <tr>\n",
       "      <th id=\"T_40757_level0_row11\" class=\"row_heading level0 row11\" >qryf4q</th>\n",
       "      <td id=\"T_40757_row11_col0\" class=\"data row11 col0\" >sogei-personale</td>\n",
       "      <td id=\"T_40757_row11_col1\" class=\"data row11 col1\" >progetto che contiene alcune delle preparazioni per il modello dei costi del personale SoGeI</td>\n",
       "      <td id=\"T_40757_row11_col2\" class=\"data row11 col2\" >2022-04-05 09:45:26</td>\n",
       "      <td id=\"T_40757_row11_col3\" class=\"data row11 col3\" >ACTIVE</td>\n",
       "      <td id=\"T_40757_row11_col4\" class=\"data row11 col4\" ></td>\n",
       "      <td id=\"T_40757_row11_col5\" class=\"data row11 col5\" >...fe6h3a</td>\n",
       "      <td id=\"T_40757_row11_col6\" class=\"data row11 col6\" >{}</td>\n",
       "      <td id=\"T_40757_row11_col7\" class=\"data row11 col7\" >{'default-tags': {'CreatedBy': 'oracleidentitycloudservice/luigi.saetta@oracle.com'}}</td>\n",
       "    </tr>\n",
       "    <tr>\n",
       "      <th id=\"T_40757_level0_row12\" class=\"row_heading level0 row12\" >zjd76q</th>\n",
       "      <td id=\"T_40757_row12_col0\" class=\"data row12 col0\" >credit_scoring</td>\n",
       "      <td id=\"T_40757_row12_col1\" class=\"data row12 col1\" >None</td>\n",
       "      <td id=\"T_40757_row12_col2\" class=\"data row12 col2\" >2022-03-14 07:32:54</td>\n",
       "      <td id=\"T_40757_row12_col3\" class=\"data row12 col3\" >ACTIVE</td>\n",
       "      <td id=\"T_40757_row12_col4\" class=\"data row12 col4\" ></td>\n",
       "      <td id=\"T_40757_row12_col5\" class=\"data row12 col5\" >...fe6h3a</td>\n",
       "      <td id=\"T_40757_row12_col6\" class=\"data row12 col6\" >{}</td>\n",
       "      <td id=\"T_40757_row12_col7\" class=\"data row12 col7\" >{'default-tags': {'CreatedBy': 'oracleidentitycloudservice/luigi.saetta@oracle.com'}}</td>\n",
       "    </tr>\n",
       "    <tr>\n",
       "      <th id=\"T_40757_level0_row13\" class=\"row_heading level0 row13\" >dja2ca</th>\n",
       "      <td id=\"T_40757_row13_col0\" class=\"data row13 col0\" >nlp</td>\n",
       "      <td id=\"T_40757_row13_col1\" class=\"data row13 col1\" >None</td>\n",
       "      <td id=\"T_40757_row13_col2\" class=\"data row13 col2\" >2021-12-17 10:49:32</td>\n",
       "      <td id=\"T_40757_row13_col3\" class=\"data row13 col3\" >ACTIVE</td>\n",
       "      <td id=\"T_40757_row13_col4\" class=\"data row13 col4\" ></td>\n",
       "      <td id=\"T_40757_row13_col5\" class=\"data row13 col5\" >...fe6h3a</td>\n",
       "      <td id=\"T_40757_row13_col6\" class=\"data row13 col6\" >{}</td>\n",
       "      <td id=\"T_40757_row13_col7\" class=\"data row13 col7\" >{'default-tags': {'CreatedBy': 'oracleidentitycloudservice/luigi.saetta@oracle.com'}}</td>\n",
       "    </tr>\n",
       "  </tbody>\n",
       "</table>\n"
      ],
      "text/plain": [
       "[{\n",
       "   \"compartment_id\": \"ocid1.compartment.oc1..aaaaaaaag2cpni5qj6li5ny6ehuahhepbpveopobooayqfeudqygdtfe6h3a\",\n",
       "   \"created_by\": \"ocid1.saml2idp.oc1..aaaaaaaar3ydw5hoiob7dfjzoom2dvbhqkkd5fat6m7upe72emlsxhsfrbfa/luigi.saetta@oracle.com\",\n",
       "   \"defined_tags\": {\n",
       "     \"default-tags\": {\n",
       "       \"CreatedBy\": \"oracleidentitycloudservice/luigi.saetta@oracle.com\"\n",
       "     }\n",
       "   },\n",
       "   \"description\": null,\n",
       "   \"display_name\": \"workshop-procco\",\n",
       "   \"freeform_tags\": {},\n",
       "   \"id\": \"ocid1.datascienceproject.oc1.eu-frankfurt-1.amaaaaaangencdyarxbilkubzgqjom3vpr4ejxpp6xtw3blfdvuyhd6sggta\",\n",
       "   \"lifecycle_state\": \"ACTIVE\",\n",
       "   \"time_created\": \"2023-06-06T08:39:21.613000+00:00\",\n",
       "   \"user_name\": \"\"\n",
       " },\n",
       " {\n",
       "   \"compartment_id\": \"ocid1.compartment.oc1..aaaaaaaag2cpni5qj6li5ny6ehuahhepbpveopobooayqfeudqygdtfe6h3a\",\n",
       "   \"created_by\": \"ocid1.saml2idp.oc1..aaaaaaaar3ydw5hoiob7dfjzoom2dvbhqkkd5fat6m7upe72emlsxhsfrbfa/luigi.saetta@oracle.com\",\n",
       "   \"defined_tags\": {\n",
       "     \"default-tags\": {\n",
       "       \"CreatedBy\": \"oracleidentitycloudservice/luigi.saetta@oracle.com\"\n",
       "     }\n",
       "   },\n",
       "   \"description\": \"All the test for the Face Verification poC in Notartel\",\n",
       "   \"display_name\": \"Notartel\",\n",
       "   \"freeform_tags\": {},\n",
       "   \"id\": \"ocid1.datascienceproject.oc1.eu-frankfurt-1.amaaaaaangencdyatfbrfuv3a7ta5k4ikmeme3fxbo55thsj46crj5kzikxq\",\n",
       "   \"lifecycle_state\": \"ACTIVE\",\n",
       "   \"time_created\": \"2023-04-12T08:43:29.511000+00:00\",\n",
       "   \"user_name\": \"\"\n",
       " },\n",
       " {\n",
       "   \"compartment_id\": \"ocid1.compartment.oc1..aaaaaaaag2cpni5qj6li5ny6ehuahhepbpveopobooayqfeudqygdtfe6h3a\",\n",
       "   \"created_by\": \"ocid1.saml2idp.oc1..aaaaaaaar3ydw5hoiob7dfjzoom2dvbhqkkd5fat6m7upe72emlsxhsfrbfa/luigi.saetta@oracle.com\",\n",
       "   \"defined_tags\": {\n",
       "     \"default-tags\": {\n",
       "       \"CreatedBy\": \"oracleidentitycloudservice/luigi.saetta@oracle.com\"\n",
       "     }\n",
       "   },\n",
       "   \"description\": null,\n",
       "   \"display_name\": \"Sisal\",\n",
       "   \"freeform_tags\": {},\n",
       "   \"id\": \"ocid1.datascienceproject.oc1.eu-frankfurt-1.amaaaaaangencdya33rn75bjtt23d2bi7n6tstospemm5ank3i56356arjeq\",\n",
       "   \"lifecycle_state\": \"ACTIVE\",\n",
       "   \"time_created\": \"2023-02-23T09:14:29.968000+00:00\",\n",
       "   \"user_name\": \"\"\n",
       " },\n",
       " {\n",
       "   \"compartment_id\": \"ocid1.compartment.oc1..aaaaaaaag2cpni5qj6li5ny6ehuahhepbpveopobooayqfeudqygdtfe6h3a\",\n",
       "   \"created_by\": \"ocid1.saml2idp.oc1..aaaaaaaar3ydw5hoiob7dfjzoom2dvbhqkkd5fat6m7upe72emlsxhsfrbfa/luigi.saetta@oracle.com\",\n",
       "   \"defined_tags\": {\n",
       "     \"default-tags\": {\n",
       "       \"CreatedBy\": \"oracleidentitycloudservice/luigi.saetta@oracle.com\"\n",
       "     }\n",
       "   },\n",
       "   \"description\": \"Strumenti per il training di Whisper con JOBS e pipelines\",\n",
       "   \"display_name\": \"enav-whisper-batch\",\n",
       "   \"freeform_tags\": {},\n",
       "   \"id\": \"ocid1.datascienceproject.oc1.eu-frankfurt-1.amaaaaaangencdyasybymsgwfmwo7ukyjs6kdl573kpxnb5rgy52c5irb5pq\",\n",
       "   \"lifecycle_state\": \"ACTIVE\",\n",
       "   \"time_created\": \"2023-02-13T09:09:58.945000+00:00\",\n",
       "   \"user_name\": \"\"\n",
       " },\n",
       " {\n",
       "   \"compartment_id\": \"ocid1.compartment.oc1..aaaaaaaag2cpni5qj6li5ny6ehuahhepbpveopobooayqfeudqygdtfe6h3a\",\n",
       "   \"created_by\": \"ocid1.saml2idp.oc1..aaaaaaaar3ydw5hoiob7dfjzoom2dvbhqkkd5fat6m7upe72emlsxhsfrbfa/luigi.saetta@oracle.com\",\n",
       "   \"defined_tags\": {\n",
       "     \"default-tags\": {\n",
       "       \"CreatedBy\": \"oracleidentitycloudservice/luigi.saetta@oracle.com\"\n",
       "     }\n",
       "   },\n",
       "   \"description\": null,\n",
       "   \"display_name\": \"buildings_segmentation\",\n",
       "   \"freeform_tags\": {},\n",
       "   \"id\": \"ocid1.datascienceproject.oc1.eu-frankfurt-1.amaaaaaangencdyaq6r2hpq4d7blqbsxzcltdhft6c5vfhxo6zizddwoqoxa\",\n",
       "   \"lifecycle_state\": \"ACTIVE\",\n",
       "   \"time_created\": \"2023-02-01T05:22:15.254000+00:00\",\n",
       "   \"user_name\": \"\"\n",
       " },\n",
       " {\n",
       "   \"compartment_id\": \"ocid1.compartment.oc1..aaaaaaaag2cpni5qj6li5ny6ehuahhepbpveopobooayqfeudqygdtfe6h3a\",\n",
       "   \"created_by\": \"ocid1.saml2idp.oc1..aaaaaaaar3ydw5hoiob7dfjzoom2dvbhqkkd5fat6m7upe72emlsxhsfrbfa/luigi.saetta@oracle.com\",\n",
       "   \"defined_tags\": {\n",
       "     \"default-tags\": {\n",
       "       \"CreatedBy\": \"oracleidentitycloudservice/luigi.saetta@oracle.com\"\n",
       "     }\n",
       "   },\n",
       "   \"description\": \"This projects contains all the test done on ML pipelines, since GA Jan 2023\",\n",
       "   \"display_name\": \"ml_pipelines\",\n",
       "   \"freeform_tags\": {},\n",
       "   \"id\": \"ocid1.datascienceproject.oc1.eu-frankfurt-1.amaaaaaangencdyaynwkpggidtjw3e3blseyohefxjqhpwtfyl7kkd6ybhga\",\n",
       "   \"lifecycle_state\": \"ACTIVE\",\n",
       "   \"time_created\": \"2023-01-30T06:23:07.645000+00:00\",\n",
       "   \"user_name\": \"\"\n",
       " },\n",
       " {\n",
       "   \"compartment_id\": \"ocid1.compartment.oc1..aaaaaaaag2cpni5qj6li5ny6ehuahhepbpveopobooayqfeudqygdtfe6h3a\",\n",
       "   \"created_by\": \"ocid1.saml2idp.oc1..aaaaaaaar3ydw5hoiob7dfjzoom2dvbhqkkd5fat6m7upe72emlsxhsfrbfa/luigi.saetta@oracle.com\",\n",
       "   \"defined_tags\": {\n",
       "     \"default-tags\": {\n",
       "       \"CreatedBy\": \"oracleidentitycloudservice/luigi.saetta@oracle.com\"\n",
       "     }\n",
       "   },\n",
       "   \"description\": \"water meter and jobs. Tutti i componenti della soluzione sviluppata inizialmente per l'acquedotto Fiora\",\n",
       "   \"display_name\": \"water_meter\",\n",
       "   \"freeform_tags\": {},\n",
       "   \"id\": \"ocid1.datascienceproject.oc1.eu-frankfurt-1.amaaaaaangencdyaapc6jironrngzobwj4jhmwtncyuct4ftrhiw3plcsfvq\",\n",
       "   \"lifecycle_state\": \"ACTIVE\",\n",
       "   \"time_created\": \"2022-12-26T14:22:51.399000+00:00\",\n",
       "   \"user_name\": \"\"\n",
       " },\n",
       " {\n",
       "   \"compartment_id\": \"ocid1.compartment.oc1..aaaaaaaag2cpni5qj6li5ny6ehuahhepbpveopobooayqfeudqygdtfe6h3a\",\n",
       "   \"created_by\": \"ocid1.saml2idp.oc1..aaaaaaaar3ydw5hoiob7dfjzoom2dvbhqkkd5fat6m7upe72emlsxhsfrbfa/luigi.saetta@oracle.com\",\n",
       "   \"defined_tags\": {\n",
       "     \"default-tags\": {\n",
       "       \"CreatedBy\": \"oracleidentitycloudservice/luigi.saetta@oracle.com\"\n",
       "     }\n",
       "   },\n",
       "   \"description\": \"contiene tutto quanto sviluppato nell'ambito del mio progetto PyTorch on OCI Data Science\",\n",
       "   \"display_name\": \"pytorch-on-oci\",\n",
       "   \"freeform_tags\": {},\n",
       "   \"id\": \"ocid1.datascienceproject.oc1.eu-frankfurt-1.amaaaaaangencdyaxvkmnt7lrhgmiwt6w5h2jvcefu6e6hu7b4leb56mx6kq\",\n",
       "   \"lifecycle_state\": \"ACTIVE\",\n",
       "   \"time_created\": \"2022-10-16T15:28:24.844000+00:00\",\n",
       "   \"user_name\": \"\"\n",
       " },\n",
       " {\n",
       "   \"compartment_id\": \"ocid1.compartment.oc1..aaaaaaaag2cpni5qj6li5ny6ehuahhepbpveopobooayqfeudqygdtfe6h3a\",\n",
       "   \"created_by\": \"ocid1.saml2idp.oc1..aaaaaaaar3ydw5hoiob7dfjzoom2dvbhqkkd5fat6m7upe72emlsxhsfrbfa/luigi.saetta@oracle.com\",\n",
       "   \"defined_tags\": {\n",
       "     \"default-tags\": {\n",
       "       \"CreatedBy\": \"oracleidentitycloudservice/luigi.saetta@oracle.com\"\n",
       "     }\n",
       "   },\n",
       "   \"description\": null,\n",
       "   \"display_name\": \"5class-bitron\",\n",
       "   \"freeform_tags\": {},\n",
       "   \"id\": \"ocid1.datascienceproject.oc1.eu-frankfurt-1.amaaaaaangencdya526vqt7wmlkgttiavib3pde5o4frygdl3xv3brk5ukya\",\n",
       "   \"lifecycle_state\": \"ACTIVE\",\n",
       "   \"time_created\": \"2022-09-18T13:35:01.479000+00:00\",\n",
       "   \"user_name\": \"\"\n",
       " },\n",
       " {\n",
       "   \"compartment_id\": \"ocid1.compartment.oc1..aaaaaaaag2cpni5qj6li5ny6ehuahhepbpveopobooayqfeudqygdtfe6h3a\",\n",
       "   \"created_by\": \"ocid1.saml2idp.oc1..aaaaaaaar3ydw5hoiob7dfjzoom2dvbhqkkd5fat6m7upe72emlsxhsfrbfa/luigi.saetta@oracle.com\",\n",
       "   \"defined_tags\": {\n",
       "     \"default-tags\": {\n",
       "       \"CreatedBy\": \"oracleidentitycloudservice/luigi.saetta@oracle.com\"\n",
       "     }\n",
       "   },\n",
       "   \"description\": \"Qui gli strumenti per creare i dataset atco2\",\n",
       "   \"display_name\": \"enav-p100\",\n",
       "   \"freeform_tags\": {},\n",
       "   \"id\": \"ocid1.datascienceproject.oc1.eu-frankfurt-1.amaaaaaangencdyaochk7qfmobgexleqmyct3pltvmband4yxr6jyt35an5a\",\n",
       "   \"lifecycle_state\": \"ACTIVE\",\n",
       "   \"time_created\": \"2022-08-09T08:39:58.629000+00:00\",\n",
       "   \"user_name\": \"\"\n",
       " },\n",
       " {\n",
       "   \"compartment_id\": \"ocid1.compartment.oc1..aaaaaaaag2cpni5qj6li5ny6ehuahhepbpveopobooayqfeudqygdtfe6h3a\",\n",
       "   \"created_by\": \"ocid1.saml2idp.oc1..aaaaaaaar3ydw5hoiob7dfjzoom2dvbhqkkd5fat6m7upe72emlsxhsfrbfa/luigi.saetta@oracle.com\",\n",
       "   \"defined_tags\": {\n",
       "     \"default-tags\": {\n",
       "       \"CreatedBy\": \"oracleidentitycloudservice/luigi.saetta@oracle.com\"\n",
       "     }\n",
       "   },\n",
       "   \"description\": \"In this project I have collected all the work done in Summer 2022 around the subject of tools for Data Drift detection\",\n",
       "   \"display_name\": \"data-drift\",\n",
       "   \"freeform_tags\": {},\n",
       "   \"id\": \"ocid1.datascienceproject.oc1.eu-frankfurt-1.amaaaaaangencdyatmhyp2gmw3hll77lhrup6alcojr56n2iixtt56m35wxa\",\n",
       "   \"lifecycle_state\": \"ACTIVE\",\n",
       "   \"time_created\": \"2022-06-21T12:06:14.793000+00:00\",\n",
       "   \"user_name\": \"\"\n",
       " },\n",
       " {\n",
       "   \"compartment_id\": \"ocid1.compartment.oc1..aaaaaaaag2cpni5qj6li5ny6ehuahhepbpveopobooayqfeudqygdtfe6h3a\",\n",
       "   \"created_by\": \"ocid1.saml2idp.oc1..aaaaaaaar3ydw5hoiob7dfjzoom2dvbhqkkd5fat6m7upe72emlsxhsfrbfa/luigi.saetta@oracle.com\",\n",
       "   \"defined_tags\": {\n",
       "     \"default-tags\": {\n",
       "       \"CreatedBy\": \"oracleidentitycloudservice/luigi.saetta@oracle.com\"\n",
       "     }\n",
       "   },\n",
       "   \"description\": \"progetto che contiene alcune delle preparazioni per il modello dei costi del personale SoGeI\",\n",
       "   \"display_name\": \"sogei-personale\",\n",
       "   \"freeform_tags\": {},\n",
       "   \"id\": \"ocid1.datascienceproject.oc1.eu-frankfurt-1.amaaaaaangencdyaoagm7qvd7eps6e2pernbqun4aaghiwfwqqtop2qryf4q\",\n",
       "   \"lifecycle_state\": \"ACTIVE\",\n",
       "   \"time_created\": \"2022-04-05T09:45:26.616000+00:00\",\n",
       "   \"user_name\": \"\"\n",
       " },\n",
       " {\n",
       "   \"compartment_id\": \"ocid1.compartment.oc1..aaaaaaaag2cpni5qj6li5ny6ehuahhepbpveopobooayqfeudqygdtfe6h3a\",\n",
       "   \"created_by\": \"ocid1.saml2idp.oc1..aaaaaaaar3ydw5hoiob7dfjzoom2dvbhqkkd5fat6m7upe72emlsxhsfrbfa/luigi.saetta@oracle.com\",\n",
       "   \"defined_tags\": {\n",
       "     \"default-tags\": {\n",
       "       \"CreatedBy\": \"oracleidentitycloudservice/luigi.saetta@oracle.com\"\n",
       "     }\n",
       "   },\n",
       "   \"description\": null,\n",
       "   \"display_name\": \"credit_scoring\",\n",
       "   \"freeform_tags\": {},\n",
       "   \"id\": \"ocid1.datascienceproject.oc1.eu-frankfurt-1.amaaaaaangencdyaft37wwplurq4ddl7hsjtbxbool7aoc3ibwnboozjd76q\",\n",
       "   \"lifecycle_state\": \"ACTIVE\",\n",
       "   \"time_created\": \"2022-03-14T07:32:54.637000+00:00\",\n",
       "   \"user_name\": \"\"\n",
       " },\n",
       " {\n",
       "   \"compartment_id\": \"ocid1.compartment.oc1..aaaaaaaag2cpni5qj6li5ny6ehuahhepbpveopobooayqfeudqygdtfe6h3a\",\n",
       "   \"created_by\": \"ocid1.saml2idp.oc1..aaaaaaaar3ydw5hoiob7dfjzoom2dvbhqkkd5fat6m7upe72emlsxhsfrbfa/luigi.saetta@oracle.com\",\n",
       "   \"defined_tags\": {\n",
       "     \"default-tags\": {\n",
       "       \"CreatedBy\": \"oracleidentitycloudservice/luigi.saetta@oracle.com\"\n",
       "     }\n",
       "   },\n",
       "   \"description\": null,\n",
       "   \"display_name\": \"nlp\",\n",
       "   \"freeform_tags\": {},\n",
       "   \"id\": \"ocid1.datascienceproject.oc1.eu-frankfurt-1.amaaaaaangencdyagorb5cx3s4tgqicu4jxnwi6ea5ex2k72pf7ghidja2ca\",\n",
       "   \"lifecycle_state\": \"ACTIVE\",\n",
       "   \"time_created\": \"2021-12-17T10:49:32.931000+00:00\",\n",
       "   \"user_name\": \"\"\n",
       " }]"
      ]
     },
     "execution_count": 5,
     "metadata": {},
     "output_type": "execute_result"
    }
   ],
   "source": [
    "# make sure there is access to the project and compartment\n",
    "pc = ProjectCatalog(compartment_id=compartment_id)\n",
    "pc.list_projects()"
   ]
  },
  {
   "cell_type": "code",
   "execution_count": 6,
   "id": "d12812ae",
   "metadata": {
    "vscode": {
     "languageId": "python"
    }
   },
   "outputs": [],
   "source": [
    "project_id = \"ocid1.datascienceproject.oc1.eu-frankfurt-1.amaaaaaangencdyarxbilkubzgqjom3vpr4ejxpp6xtw3blfdvuyhd6sggta\""
   ]
  },
  {
   "cell_type": "code",
   "execution_count": 7,
   "id": "66ccfeef",
   "metadata": {
    "vscode": {
     "languageId": "python"
    }
   },
   "outputs": [],
   "source": [
    "log_group_id = \"ocid1.loggroup.oc1.eu-frankfurt-1.amaaaaaangencdyazs4l4rzrzsarlej6mqlwlbz6bmnx4adwdlssveam2jaa\""
   ]
  },
  {
   "cell_type": "code",
   "execution_count": 8,
   "id": "83c9f224",
   "metadata": {
    "vscode": {
     "languageId": "python"
    }
   },
   "outputs": [],
   "source": [
    "from random import randrange\n",
    "pipeline_name = f\"ads_pipeline_sample_{randrange(1000,9999)}\""
   ]
  },
  {
   "cell_type": "markdown",
   "id": "be4e075b",
   "metadata": {},
   "source": [
    "## create a new pipeline with ADS"
   ]
  },
  {
   "cell_type": "code",
   "execution_count": 9,
   "id": "099a983b",
   "metadata": {
    "vscode": {
     "languageId": "python"
    }
   },
   "outputs": [],
   "source": [
    "from ads.pipeline.ads_pipeline_step import PipelineStep\n",
    "from ads.pipeline.ads_pipeline import Pipeline\n",
    "from ads.pipeline import CustomScriptStep\n",
    "from ads.jobs import ScriptRuntime\n",
    "\n",
    "infrastructure = (\n",
    "    CustomScriptStep()\n",
    "    .with_block_storage_size(50)\n",
    "    .with_shape_name(\"VM.Standard2.4\")\n",
    ")\n",
    "\n",
    "step_one = (\n",
    "    PipelineStep(\"step1\")\n",
    "    .with_description(\"Pass data by value\")\n",
    "    .with_infrastructure(infrastructure)\n",
    "    .with_runtime(\n",
    "        ScriptRuntime()\n",
    "        .with_source(\"mlpipeline_step1.zip\")\n",
    "        .with_service_conda(\"onnx110_p37_cpu_v1\")\n",
    "        .with_environment_variable(\n",
    "            PIPELINE_STEP_RUN_ENTRYPOINT=\"mlpipeline_step1.py\"\n",
    "        )\n",
    "    )\n",
    ")\n",
    "\n",
    "step_two = (\n",
    "    PipelineStep(\"step2\")\n",
    "    .with_description(\"pass data by reference\")\n",
    "    .with_infrastructure(infrastructure)\n",
    "    .with_runtime(\n",
    "        ScriptRuntime()\n",
    "        .with_source(\"mlpipeline_step2.zip\")\n",
    "        .with_service_conda(\"onnx110_p37_cpu_v1\")\n",
    "        .with_environment_variable(\n",
    "            PIPELINE_STEP_RUN_ENTRYPOINT=\"mlpipeline_step2.py\"\n",
    "        )\n",
    "    )\n",
    ")\n",
    "\n",
    "step_three = (\n",
    "    PipelineStep(\"step3\")\n",
    "    .with_description(\"read data by reference\")\n",
    "    .with_infrastructure(infrastructure)\n",
    "    .with_runtime(\n",
    "        ScriptRuntime()\n",
    "        .with_source(\"mlpipeline_step3.zip\")\n",
    "        .with_service_conda(\"onnx110_p37_cpu_v1\")\n",
    "        .with_environment_variable(\n",
    "            PIPELINE_STEP_RUN_ENTRYPOINT=\"mlpipeline_step3.py\"\n",
    "        )\n",
    "    )\n",
    ")"
   ]
  },
  {
   "cell_type": "code",
   "execution_count": 10,
   "id": "7ae916c6",
   "metadata": {
    "vscode": {
     "languageId": "python"
    }
   },
   "outputs": [],
   "source": [
    "pipeline = (\n",
    "    Pipeline(pipeline_name)\n",
    "    .with_compartment_id(compartment_id)\n",
    "    .with_project_id(project_id)\n",
    "    .with_log_group_id(log_group_id)  # if you define the LogGroupID but not the LogID, logs will be created automatically in the specified LogGroup\n",
    "    .with_step_details([step_one, step_two, step_three])\n",
    "    .with_dag([\"step1 >> step2 >> step3\"])  # this defines the dependencies between the steps, creating the DAG.                                                     \n",
    ")                                                   # Use () to define multiple step dependencies, like (step1, step2) >> step3 to run step1 and step2 in parallel and step3 when they both finish"
   ]
  },
  {
   "cell_type": "code",
   "execution_count": 11,
   "id": "294d3435",
   "metadata": {
    "vscode": {
     "languageId": "python"
    }
   },
   "outputs": [
    {
     "data": {
      "image/svg+xml": [
       "<?xml version=\"1.0\" encoding=\"UTF-8\" standalone=\"no\"?>\n",
       "<!DOCTYPE svg PUBLIC \"-//W3C//DTD SVG 1.1//EN\"\n",
       " \"http://www.w3.org/Graphics/SVG/1.1/DTD/svg11.dtd\">\n",
       "<!-- Generated by graphviz version 2.30.1 (20200602.1248)\n",
       " -->\n",
       "<!-- Title: %3 Pages: 1 -->\n",
       "<svg width=\"198pt\" height=\"308pt\"\n",
       " viewBox=\"0.00 0.00 198.00 308.00\" xmlns=\"http://www.w3.org/2000/svg\" xmlns:xlink=\"http://www.w3.org/1999/xlink\">\n",
       "<g id=\"graph0\" class=\"graph\" transform=\"scale(1 1) rotate(0) translate(4 304)\">\n",
       "<title>%3</title>\n",
       "<polygon fill=\"white\" stroke=\"white\" points=\"-4,5 -4,-304 195,-304 195,5 -4,5\"/>\n",
       "<!-- ads_pipeline_sample_8867_pipeline -->\n",
       "<g id=\"node1\" class=\"node\"><title>ads_pipeline_sample_8867_pipeline</title>\n",
       "<path fill=\"#747e7e\" stroke=\"#dedede\" d=\"M178.25,-300C178.25,-300 11.75,-300 11.75,-300 5.75,-300 -0.25,-294 -0.25,-288 -0.25,-288 -0.25,-264 -0.25,-264 -0.25,-258 5.75,-252 11.75,-252 11.75,-252 178.25,-252 178.25,-252 184.25,-252 190.25,-258 190.25,-264 190.25,-264 190.25,-288 190.25,-288 190.25,-294 184.25,-300 178.25,-300\"/>\n",
       "<text text-anchor=\"start\" x=\"12.5\" y=\"-281.3\" font-family=\"Helvetica,Arial,sans-serif\" font-size=\"14.00\" fill=\"white\">ads_pipeline_sample_8867</text>\n",
       "<text text-anchor=\"start\" x=\"76\" y=\"-263.2\" font-family=\"Helvetica,Arial,sans-serif\" font-size=\"11.00\" fill=\"white\">Pipeline</text>\n",
       "</g>\n",
       "<!-- step1_custom_script -->\n",
       "<g id=\"node2\" class=\"node\"><title>step1_custom_script</title>\n",
       "<path fill=\"#747e7e\" stroke=\"#dedede\" d=\"M130,-216C130,-216 60,-216 60,-216 54,-216 48,-210 48,-204 48,-204 48,-180 48,-180 48,-174 54,-168 60,-168 60,-168 130,-168 130,-168 136,-168 142,-174 142,-180 142,-180 142,-204 142,-204 142,-210 136,-216 130,-216\"/>\n",
       "<text text-anchor=\"start\" x=\"78\" y=\"-197.3\" font-family=\"Helvetica,Arial,sans-serif\" font-size=\"14.00\" fill=\"white\">step1</text>\n",
       "<text text-anchor=\"start\" x=\"60.5\" y=\"-179.2\" font-family=\"Helvetica,Arial,sans-serif\" font-size=\"11.00\" fill=\"white\">Custom Script</text>\n",
       "</g>\n",
       "<!-- ads_pipeline_sample_8867_pipeline&#45;&gt;step1_custom_script -->\n",
       "<g id=\"edge1\" class=\"edge\"><title>ads_pipeline_sample_8867_pipeline&#45;&gt;step1_custom_script</title>\n",
       "<path fill=\"none\" stroke=\"black\" d=\"M95,-251.721C95,-243.777 95,-234.734 95,-226.164\"/>\n",
       "<polygon fill=\"black\" stroke=\"black\" points=\"98.5001,-226.053 95,-216.053 91.5001,-226.053 98.5001,-226.053\"/>\n",
       "</g>\n",
       "<!-- step2_custom_script -->\n",
       "<g id=\"node3\" class=\"node\"><title>step2_custom_script</title>\n",
       "<path fill=\"#747e7e\" stroke=\"#dedede\" d=\"M130,-132C130,-132 60,-132 60,-132 54,-132 48,-126 48,-120 48,-120 48,-96 48,-96 48,-90 54,-84 60,-84 60,-84 130,-84 130,-84 136,-84 142,-90 142,-96 142,-96 142,-120 142,-120 142,-126 136,-132 130,-132\"/>\n",
       "<text text-anchor=\"start\" x=\"78\" y=\"-113.3\" font-family=\"Helvetica,Arial,sans-serif\" font-size=\"14.00\" fill=\"white\">step2</text>\n",
       "<text text-anchor=\"start\" x=\"60.5\" y=\"-95.2\" font-family=\"Helvetica,Arial,sans-serif\" font-size=\"11.00\" fill=\"white\">Custom Script</text>\n",
       "</g>\n",
       "<!-- step1_custom_script&#45;&gt;step2_custom_script -->\n",
       "<g id=\"edge2\" class=\"edge\"><title>step1_custom_script&#45;&gt;step2_custom_script</title>\n",
       "<path fill=\"none\" stroke=\"black\" d=\"M95,-167.721C95,-159.777 95,-150.734 95,-142.164\"/>\n",
       "<polygon fill=\"black\" stroke=\"black\" points=\"98.5001,-142.053 95,-132.053 91.5001,-142.053 98.5001,-142.053\"/>\n",
       "</g>\n",
       "<!-- step3_custom_script -->\n",
       "<g id=\"node4\" class=\"node\"><title>step3_custom_script</title>\n",
       "<path fill=\"#747e7e\" stroke=\"#dedede\" d=\"M130,-48C130,-48 60,-48 60,-48 54,-48 48,-42 48,-36 48,-36 48,-12 48,-12 48,-6 54,-0 60,-0 60,-0 130,-0 130,-0 136,-0 142,-6 142,-12 142,-12 142,-36 142,-36 142,-42 136,-48 130,-48\"/>\n",
       "<text text-anchor=\"start\" x=\"78\" y=\"-29.3\" font-family=\"Helvetica,Arial,sans-serif\" font-size=\"14.00\" fill=\"white\">step3</text>\n",
       "<text text-anchor=\"start\" x=\"60.5\" y=\"-11.2\" font-family=\"Helvetica,Arial,sans-serif\" font-size=\"11.00\" fill=\"white\">Custom Script</text>\n",
       "</g>\n",
       "<!-- step2_custom_script&#45;&gt;step3_custom_script -->\n",
       "<g id=\"edge3\" class=\"edge\"><title>step2_custom_script&#45;&gt;step3_custom_script</title>\n",
       "<path fill=\"none\" stroke=\"black\" d=\"M95,-83.7214C95,-75.7771 95,-66.7336 95,-58.1645\"/>\n",
       "<polygon fill=\"black\" stroke=\"black\" points=\"98.5001,-58.0529 95,-48.053 91.5001,-58.053 98.5001,-58.0529\"/>\n",
       "</g>\n",
       "</g>\n",
       "</svg>\n"
      ],
      "text/plain": [
       "<graphviz.dot.Digraph at 0x7f19844925b0>"
      ]
     },
     "metadata": {},
     "output_type": "display_data"
    }
   ],
   "source": [
    "# view the pipeline graph visually, make sure you have the step dependencies defined correctly before creating the pipeline\n",
    "pipeline.show()"
   ]
  },
  {
   "cell_type": "code",
   "execution_count": 12,
   "id": "a09e47a9",
   "metadata": {
    "vscode": {
     "languageId": "python"
    }
   },
   "outputs": [
    {
     "data": {
      "text/plain": [
       "\n",
       "kind: pipeline\n",
       "spec:\n",
       "  compartmentId: ocid1.compartment.oc1..aaaaaaaag2cpni5qj6li5ny6ehuahhepbpveopobooayqfeudqygdtfe6h3a\n",
       "  dag:\n",
       "  - step1 >> step2 >> step3\n",
       "  displayName: ads_pipeline_sample_8867\n",
       "  id: ocid1.datasciencepipeline.oc1.eu-frankfurt-1.amaaaaaangencdya4wazs7sxdiwpy2ri3debikucebecblmyct5dpompoveq\n",
       "  logGroupId: ocid1.loggroup.oc1.eu-frankfurt-1.amaaaaaangencdyazs4l4rzrzsarlej6mqlwlbz6bmnx4adwdlssveam2jaa\n",
       "  projectId: ocid1.datascienceproject.oc1.eu-frankfurt-1.amaaaaaangencdyarxbilkubzgqjom3vpr4ejxpp6xtw3blfdvuyhd6sggta\n",
       "  stepDetails:\n",
       "  - kind: customScript\n",
       "    spec:\n",
       "      description: Pass data by value\n",
       "      infrastructure:\n",
       "        kind: infrastructure\n",
       "        spec:\n",
       "          blockStorageSize: 50\n",
       "          shapeName: VM.Standard2.4\n",
       "      name: step1\n",
       "      runtime:\n",
       "        kind: runtime\n",
       "        spec:\n",
       "          conda:\n",
       "            slug: onnx110_p37_cpu_v1\n",
       "            type: service\n",
       "          env:\n",
       "          - name: PIPELINE_STEP_RUN_ENTRYPOINT\n",
       "            value: mlpipeline_step1.py\n",
       "          scriptPathURI: mlpipeline_step1.zip\n",
       "        type: script\n",
       "  - kind: customScript\n",
       "    spec:\n",
       "      description: pass data by reference\n",
       "      infrastructure:\n",
       "        kind: infrastructure\n",
       "        spec:\n",
       "          blockStorageSize: 50\n",
       "          shapeName: VM.Standard2.4\n",
       "      name: step2\n",
       "      runtime:\n",
       "        kind: runtime\n",
       "        spec:\n",
       "          conda:\n",
       "            slug: onnx110_p37_cpu_v1\n",
       "            type: service\n",
       "          env:\n",
       "          - name: PIPELINE_STEP_RUN_ENTRYPOINT\n",
       "            value: mlpipeline_step2.py\n",
       "          scriptPathURI: mlpipeline_step2.zip\n",
       "        type: script\n",
       "  - kind: customScript\n",
       "    spec:\n",
       "      description: read data by reference\n",
       "      infrastructure:\n",
       "        kind: infrastructure\n",
       "        spec:\n",
       "          blockStorageSize: 50\n",
       "          shapeName: VM.Standard2.4\n",
       "      name: step3\n",
       "      runtime:\n",
       "        kind: runtime\n",
       "        spec:\n",
       "          conda:\n",
       "            slug: onnx110_p37_cpu_v1\n",
       "            type: service\n",
       "          env:\n",
       "          - name: PIPELINE_STEP_RUN_ENTRYPOINT\n",
       "            value: mlpipeline_step3.py\n",
       "          scriptPathURI: mlpipeline_step3.zip\n",
       "        type: script\n",
       "type: pipeline"
      ]
     },
     "execution_count": 12,
     "metadata": {},
     "output_type": "execute_result"
    }
   ],
   "source": [
    "#create the pipeline in the OCI Data Science service. ADS will take care of uploading all the artifacts \n",
    "pipeline.create()"
   ]
  },
  {
   "cell_type": "code",
   "execution_count": 13,
   "id": "058f9c2a",
   "metadata": {
    "vscode": {
     "languageId": "python"
    }
   },
   "outputs": [],
   "source": [
    "# you can export the pipeline to a YAML file and later import it back\n",
    "pipeline.to_yaml(\"my_pipeline.yaml\")"
   ]
  },
  {
   "cell_type": "markdown",
   "id": "54042f80",
   "metadata": {},
   "source": [
    "## Run the pipeline"
   ]
  },
  {
   "cell_type": "code",
   "execution_count": 14,
   "id": "67319e25",
   "metadata": {
    "vscode": {
     "languageId": "python"
    }
   },
   "outputs": [],
   "source": [
    "pipeline_run_name = f\"pipeline-run-{randrange(1000,9999)}\""
   ]
  },
  {
   "cell_type": "code",
   "execution_count": 15,
   "id": "fabf4389",
   "metadata": {
    "vscode": {
     "languageId": "python"
    }
   },
   "outputs": [],
   "source": [
    "# uncomment the next line and set to the OCI Object Storage location to use for passing data. Make sure you have proper permissions.\n",
    "data_location = \"oci://procco-data@frqap2zhtzbe/\"  # use: 'oci://<bucket>@<workspace>/'"
   ]
  },
  {
   "cell_type": "code",
   "execution_count": 16,
   "id": "4a593f55",
   "metadata": {
    "vscode": {
     "languageId": "python"
    }
   },
   "outputs": [],
   "source": [
    "# create the pipeline run\n",
    "pipeline_run = pipeline.run(\n",
    "    configuration_override_details = {\n",
    "    \"type\": \"DEFAULT\",\n",
    "    \"environment_variables\": {\"DATA_LOCATION\": data_location}\n",
    "    }\n",
    ")"
   ]
  },
  {
   "cell_type": "code",
   "execution_count": 17,
   "id": "c0c13b98",
   "metadata": {
    "vscode": {
     "languageId": "python"
    }
   },
   "outputs": [
    {
     "name": "stdout",
     "output_type": "stream",
     "text": [
      "ACCEPTED\n"
     ]
    }
   ],
   "source": [
    "print(pipeline_run.status)"
   ]
  },
  {
   "cell_type": "code",
   "execution_count": 18,
   "id": "581964b1",
   "metadata": {
    "vscode": {
     "languageId": "python"
    }
   },
   "outputs": [
    {
     "data": {
      "image/svg+xml": [
       "<?xml version=\"1.0\" encoding=\"UTF-8\" standalone=\"no\"?>\n",
       "<!DOCTYPE svg PUBLIC \"-//W3C//DTD SVG 1.1//EN\"\n",
       " \"http://www.w3.org/Graphics/SVG/1.1/DTD/svg11.dtd\">\n",
       "<!-- Generated by graphviz version 2.30.1 (20200602.1248)\n",
       " -->\n",
       "<!-- Title: %3 Pages: 1 -->\n",
       "<svg width=\"198pt\" height=\"532pt\"\n",
       " viewBox=\"0.00 0.00 198.00 532.00\" xmlns=\"http://www.w3.org/2000/svg\" xmlns:xlink=\"http://www.w3.org/1999/xlink\">\n",
       "<g id=\"graph0\" class=\"graph\" transform=\"scale(1 1) rotate(0) translate(4 528)\">\n",
       "<title>%3</title>\n",
       "<polygon fill=\"white\" stroke=\"white\" points=\"-4,5 -4,-528 195,-528 195,5 -4,5\"/>\n",
       "<!-- ads_pipeline_sample_8867_pipeline -->\n",
       "<g id=\"node1\" class=\"node\"><title>ads_pipeline_sample_8867_pipeline</title>\n",
       "<path fill=\"#2c6cbf\" stroke=\"#dedede\" d=\"M178.25,-524C178.25,-524 11.75,-524 11.75,-524 5.75,-524 -0.25,-518 -0.25,-512 -0.25,-512 -0.25,-454 -0.25,-454 -0.25,-448 5.75,-442 11.75,-442 11.75,-442 178.25,-442 178.25,-442 184.25,-442 190.25,-448 190.25,-454 190.25,-454 190.25,-512 190.25,-512 190.25,-518 184.25,-524 178.25,-524\"/>\n",
       "<text text-anchor=\"start\" x=\"12.5\" y=\"-505.3\" font-family=\"Helvetica,Arial,sans-serif\" font-size=\"14.00\" fill=\"white\">ads_pipeline_sample_8867</text>\n",
       "<text text-anchor=\"start\" x=\"76\" y=\"-487.2\" font-family=\"Helvetica,Arial,sans-serif\" font-size=\"11.00\" fill=\"white\">Pipeline</text>\n",
       "<text text-anchor=\"start\" x=\"65\" y=\"-470.2\" font-family=\"Courier New\" font-size=\"11.00\" fill=\"white\">Succeeded</text>\n",
       "<text text-anchor=\"start\" x=\"65\" y=\"-453.2\" font-family=\"Courier New\" font-size=\"11.00\" fill=\"white\">00:08:38 </text>\n",
       "</g>\n",
       "<!-- step1_custom_script -->\n",
       "<g id=\"node2\" class=\"node\"><title>step1_custom_script</title>\n",
       "<path fill=\"#2c6cbf\" stroke=\"#dedede\" d=\"M130,-406C130,-406 60,-406 60,-406 54,-406 48,-400 48,-394 48,-394 48,-336 48,-336 48,-330 54,-324 60,-324 60,-324 130,-324 130,-324 136,-324 142,-330 142,-336 142,-336 142,-394 142,-394 142,-400 136,-406 130,-406\"/>\n",
       "<text text-anchor=\"start\" x=\"78\" y=\"-387.3\" font-family=\"Helvetica,Arial,sans-serif\" font-size=\"14.00\" fill=\"white\">step1</text>\n",
       "<text text-anchor=\"start\" x=\"60.5\" y=\"-369.2\" font-family=\"Helvetica,Arial,sans-serif\" font-size=\"11.00\" fill=\"white\">Custom Script</text>\n",
       "<text text-anchor=\"start\" x=\"64.5\" y=\"-352.2\" font-family=\"Courier New\" font-size=\"11.00\" fill=\"white\">Succeeded</text>\n",
       "<text text-anchor=\"start\" x=\"64.5\" y=\"-335.2\" font-family=\"Courier New\" font-size=\"11.00\" fill=\"white\">00:02:38 </text>\n",
       "</g>\n",
       "<!-- ads_pipeline_sample_8867_pipeline&#45;&gt;step1_custom_script -->\n",
       "<g id=\"edge1\" class=\"edge\"><title>ads_pipeline_sample_8867_pipeline&#45;&gt;step1_custom_script</title>\n",
       "<path fill=\"none\" stroke=\"black\" d=\"M95,-441.754C95,-433.567 95,-424.856 95,-416.368\"/>\n",
       "<polygon fill=\"black\" stroke=\"black\" points=\"98.5001,-416.174 95,-406.174 91.5001,-416.175 98.5001,-416.174\"/>\n",
       "</g>\n",
       "<!-- step2_custom_script -->\n",
       "<g id=\"node3\" class=\"node\"><title>step2_custom_script</title>\n",
       "<path fill=\"#2c6cbf\" stroke=\"#dedede\" d=\"M130,-288C130,-288 60,-288 60,-288 54,-288 48,-282 48,-276 48,-276 48,-218 48,-218 48,-212 54,-206 60,-206 60,-206 130,-206 130,-206 136,-206 142,-212 142,-218 142,-218 142,-276 142,-276 142,-282 136,-288 130,-288\"/>\n",
       "<text text-anchor=\"start\" x=\"78\" y=\"-269.3\" font-family=\"Helvetica,Arial,sans-serif\" font-size=\"14.00\" fill=\"white\">step2</text>\n",
       "<text text-anchor=\"start\" x=\"60.5\" y=\"-251.2\" font-family=\"Helvetica,Arial,sans-serif\" font-size=\"11.00\" fill=\"white\">Custom Script</text>\n",
       "<text text-anchor=\"start\" x=\"64.5\" y=\"-234.2\" font-family=\"Courier New\" font-size=\"11.00\" fill=\"white\">Succeeded</text>\n",
       "<text text-anchor=\"start\" x=\"64.5\" y=\"-217.2\" font-family=\"Courier New\" font-size=\"11.00\" fill=\"white\">00:02:47 </text>\n",
       "</g>\n",
       "<!-- step1_custom_script&#45;&gt;step2_custom_script -->\n",
       "<g id=\"edge2\" class=\"edge\"><title>step1_custom_script&#45;&gt;step2_custom_script</title>\n",
       "<path fill=\"none\" stroke=\"black\" d=\"M95,-323.754C95,-315.567 95,-306.856 95,-298.368\"/>\n",
       "<polygon fill=\"black\" stroke=\"black\" points=\"98.5001,-298.174 95,-288.174 91.5001,-298.175 98.5001,-298.174\"/>\n",
       "</g>\n",
       "<!-- step3_custom_script -->\n",
       "<g id=\"node4\" class=\"node\"><title>step3_custom_script</title>\n",
       "<path fill=\"#2c6cbf\" stroke=\"#dedede\" d=\"M130,-170C130,-170 60,-170 60,-170 54,-170 48,-164 48,-158 48,-158 48,-100 48,-100 48,-94 54,-88 60,-88 60,-88 130,-88 130,-88 136,-88 142,-94 142,-100 142,-100 142,-158 142,-158 142,-164 136,-170 130,-170\"/>\n",
       "<text text-anchor=\"start\" x=\"78\" y=\"-151.3\" font-family=\"Helvetica,Arial,sans-serif\" font-size=\"14.00\" fill=\"white\">step3</text>\n",
       "<text text-anchor=\"start\" x=\"60.5\" y=\"-133.2\" font-family=\"Helvetica,Arial,sans-serif\" font-size=\"11.00\" fill=\"white\">Custom Script</text>\n",
       "<text text-anchor=\"start\" x=\"64.5\" y=\"-116.2\" font-family=\"Courier New\" font-size=\"11.00\" fill=\"white\">Succeeded</text>\n",
       "<text text-anchor=\"start\" x=\"64.5\" y=\"-99.2\" font-family=\"Courier New\" font-size=\"11.00\" fill=\"white\">00:02:57 </text>\n",
       "</g>\n",
       "<!-- step2_custom_script&#45;&gt;step3_custom_script -->\n",
       "<g id=\"edge3\" class=\"edge\"><title>step2_custom_script&#45;&gt;step3_custom_script</title>\n",
       "<path fill=\"none\" stroke=\"black\" d=\"M95,-205.754C95,-197.567 95,-188.856 95,-180.368\"/>\n",
       "<polygon fill=\"black\" stroke=\"black\" points=\"98.5001,-180.174 95,-170.174 91.5001,-180.175 98.5001,-180.174\"/>\n",
       "</g>\n",
       "<!-- Done -->\n",
       "<g id=\"node5\" class=\"node\"><title>Done</title>\n",
       "<path fill=\"#2c6cbf\" stroke=\"#dedede\" d=\"M137.397,-23.5147C137.397,-23.5147 137.397,-28.4853 137.397,-28.4853 137.397,-30.9706 135.11,-34.4271 132.822,-35.3983 132.822,-35.3983 117.137,-42.0575 117.137,-42.0575 114.849,-43.0288 110.076,-44 107.591,-44 107.591,-44 82.409,-44 82.409,-44 79.9237,-44 75.1507,-43.0288 72.8631,-42.0575 72.8631,-42.0575 57.1778,-35.3983 57.1778,-35.3983 54.8902,-34.4271 52.6025,-30.9706 52.6025,-28.4853 52.6025,-28.4853 52.6025,-23.5147 52.6025,-23.5147 52.6025,-21.0294 54.8902,-17.5729 57.1778,-16.6017 57.1778,-16.6017 72.8631,-9.94246 72.8631,-9.94246 75.1507,-8.97123 79.9237,-8 82.409,-8 82.409,-8 107.591,-8 107.591,-8 110.076,-8 114.849,-8.97123 117.137,-9.94246 117.137,-9.94246 132.822,-16.6017 132.822,-16.6017 135.11,-17.5729 137.397,-21.0294 137.397,-23.5147\"/>\n",
       "<path fill=\"none\" stroke=\"#dedede\" d=\"M141.353,-22.6284C141.353,-22.6284 141.353,-29.3716 141.353,-29.3716 141.353,-32.7431 138.25,-37.4323 135.146,-38.7498 135.146,-38.7498 119.565,-45.3648 119.565,-45.3648 116.462,-46.6824 109.987,-48 106.615,-48 106.615,-48 83.3848,-48 83.3848,-48 80.0132,-48 73.5382,-46.6824 70.4348,-45.3648 70.4348,-45.3648 54.8537,-38.7498 54.8537,-38.7498 51.7502,-37.4323 48.6468,-32.7431 48.6468,-29.3716 48.6468,-29.3716 48.6468,-22.6284 48.6468,-22.6284 48.6468,-19.2569 51.7502,-14.5677 54.8537,-13.2502 54.8537,-13.2502 70.4348,-6.63516 70.4348,-6.63516 73.5382,-5.31758 80.0132,-4 83.3848,-4 83.3848,-4 106.615,-4 106.615,-4 109.987,-4 116.462,-5.31758 119.565,-6.63516 119.565,-6.63516 135.146,-13.2502 135.146,-13.2502 138.25,-14.5677 141.353,-19.2569 141.353,-22.6284\"/>\n",
       "<path fill=\"none\" stroke=\"#dedede\" d=\"M145.309,-21.7422C145.309,-21.7422 145.309,-30.2578 145.309,-30.2578 145.309,-34.5157 141.39,-40.4374 137.47,-42.1014 137.47,-42.1014 121.994,-48.6721 121.994,-48.6721 118.074,-50.3361 109.897,-52 105.639,-52 105.639,-52 84.3606,-52 84.3606,-52 80.1028,-52 71.9257,-50.3361 68.0064,-48.6721 68.0064,-48.6721 52.5295,-42.1014 52.5295,-42.1014 48.6103,-40.4374 44.691,-34.5157 44.691,-30.2578 44.691,-30.2578 44.691,-21.7422 44.691,-21.7422 44.691,-17.4843 48.6103,-11.5626 52.5295,-9.89864 52.5295,-9.89864 68.0064,-3.32786 68.0064,-3.32786 71.9257,-1.66393 80.1028,-3.15786e-15 84.3606,-2.76301e-15 84.3606,-2.76301e-15 105.639,-7.89705e-16 105.639,-7.89705e-16 109.897,-3.94852e-16 118.074,-1.66393 121.994,-3.32786 121.994,-3.32786 137.47,-9.89864 137.47,-9.89864 141.39,-11.5626 145.309,-17.4843 145.309,-21.7422\"/>\n",
       "<text text-anchor=\"start\" x=\"75\" y=\"-22.7\" font-family=\"Helvetica,Arial,sans-serif\" font-weight=\"bold\" font-size=\"16.00\" fill=\"white\">Done</text>\n",
       "</g>\n",
       "<!-- step3_custom_script&#45;&gt;Done -->\n",
       "<g id=\"edge4\" class=\"edge\"><title>step3_custom_script&#45;&gt;Done</title>\n",
       "<path fill=\"none\" stroke=\"black\" d=\"M95,-87.7919C95,-79.3598 95,-70.5278 95,-62.2912\"/>\n",
       "<polygon fill=\"black\" stroke=\"black\" points=\"98.5001,-62.2514 95,-52.2514 91.5001,-62.2515 98.5001,-62.2514\"/>\n",
       "</g>\n",
       "</g>\n",
       "</svg>\n"
      ],
      "text/plain": [
       "<graphviz.dot.Digraph at 0x7f193ec89190>"
      ]
     },
     "metadata": {},
     "output_type": "display_data"
    }
   ],
   "source": [
    "# View the pipeline run graph with status of each step\n",
    "pipeline_run.show(wait=True)\n",
    "\n",
    "# you can keep watching the status updates using the following command\n",
    "#pipeline_run.show(wait=True)"
   ]
  },
  {
   "cell_type": "markdown",
   "id": "5c9744cb",
   "metadata": {},
   "source": [
    "## view logs"
   ]
  },
  {
   "cell_type": "code",
   "execution_count": 19,
   "id": "a3c4a1e2",
   "metadata": {
    "vscode": {
     "languageId": "python"
    }
   },
   "outputs": [
    {
     "name": "stdout",
     "output_type": "stream",
     "text": [
      "Pipeline OCID: ocid1.datasciencepipeline.oc1.eu-frankfurt-1.amaaaaaangencdya4wazs7sxdiwpy2ri3debikucebecblmyct5dpompoveq\n",
      "Pipeline Run OCID: ocid1.datasciencepipelinerun.oc1.eu-frankfurt-1.amaaaaaangencdyaj64ne2iuvdlwu7pg5h65pcwupki4h7zl6zvih5c2hitq\n",
      "[C] - custom log\n",
      "[C] - 2023-06-07 15:12:43 - Before set_pipeline_param\n",
      "[C] - 2023-06-07 15:12:43 - Job started\n",
      "[C] - 2023-06-07 15:12:43 - pipeline data file not found. Creating oci://procco-data@frqap2zhtzbe/pipeline_data_ocid1.datasciencepipelinerun.oc1.eu-frankfurt-1.amaaaaaangencdyaj64ne2iuvdlwu7pg5h65pcwupki4h7zl6zvih5c2hitq.csv\n",
      "[C] - 2023-06-07 15:12:43 - After set_pipeline_param\n",
      "[C] - 2023-06-07 15:12:43 - Added NUMBER_OF_WORKERS = 4\n",
      "[C] - 2023-06-07 15:15:33 - Num of workers to create:  4\n",
      "[C] - 2023-06-07 15:15:34 - Collecting Faker\n",
      "[C] - 2023-06-07 15:15:34 -   Downloading Faker-18.10.1-py3-none-any.whl (1.7 MB)\n",
      "\u001b[2K     \u001b[90m━━━━━━━━━━━━━━━━━━━━━━━━━━━━━━━━━━━━━━━━\u001b[0m \u001b[32m1.7/1.7 MB\u001b[0m \u001b[31m44.5 MB/s\u001b[0m eta \u001b[36m0:00:00\u001b[0m00:01\u001b[0m6m-:--:--\u001b[0m\n",
      "[C] - 2023-06-07 15:15:34 - \u001b[?25hRequirement already satisfied: python-dateutil>=2.4 in ./conda/onnx110_p37_cpu_v1/lib/python3.7/site-packages (from Faker) (2.8.2)\n",
      "[C] - 2023-06-07 15:15:34 - Requirement already satisfied: typing-extensions>=3.10.0.1 in ./conda/onnx110_p37_cpu_v1/lib/python3.7/site-packages (from Faker) (4.0.1)\n",
      "[C] - 2023-06-07 15:15:34 - Requirement already satisfied: six>=1.5 in ./conda/onnx110_p37_cpu_v1/lib/python3.7/site-packages (from python-dateutil>=2.4->Faker) (1.16.0)\n",
      "[C] - 2023-06-07 15:15:35 - Installing collected packages: Faker\n",
      "[C] - 2023-06-07 15:15:37 - Successfully installed Faker-18.10.1\n",
      "[C] - 2023-06-07 15:15:37 - Added WORKERS_DATA_FILENAME = workers_data.csv\n",
      "[C] - 2023-06-07 15:18:21 - 0       1000  ...          Sienna\n",
      "[C] - 2023-06-07 15:18:21 -    Worker ID  ...            Team\n",
      "[C] - 2023-06-07 15:18:21 - [4 rows x 4 columns]\n",
      "[C] - 2023-06-07 15:18:21 - \n",
      "[C] - 2023-06-07 15:18:21 - 3       1003  ...  DarkOliveGreen\n",
      "[C] - 2023-06-07 15:18:21 - 2       1002  ...           Black\n",
      "[C] - 2023-06-07 15:18:21 - 1       1001  ...   PaleVioletRed\n"
     ]
    },
    {
     "data": {
      "text/plain": [
       "compartmentId: ocid1.compartment.oc1..aaaaaaaag2cpni5qj6li5ny6ehuahhepbpveopobooayqfeudqygdtfe6h3a\n",
       "configurationDetails:\n",
       "  environmentVariables: {}\n",
       "  type: DEFAULT\n",
       "configurationOverrideDetails:\n",
       "  environmentVariables:\n",
       "    DATA_LOCATION: oci://procco-data@frqap2zhtzbe/\n",
       "  type: DEFAULT\n",
       "createdBy: ocid1.datasciencenotebooksession.oc1.eu-frankfurt-1.amaaaaaangencdya7cpgxfxprffrajesv5qgffbdtnnwoajo75uim3gblyzq\n",
       "definedTags:\n",
       "  default-tags:\n",
       "    CreatedBy: ocid1.datasciencenotebooksession.oc1.eu-frankfurt-1.amaaaaaangencdya7cpgxfxprffrajesv5qgffbdtnnwoajo75uim3gblyzq\n",
       "displayName: ads_pipeline_sample_8867\n",
       "id: ocid1.datasciencepipelinerun.oc1.eu-frankfurt-1.amaaaaaangencdyaj64ne2iuvdlwu7pg5h65pcwupki4h7zl6zvih5c2hitq\n",
       "lifecycleDetails: Pipeline run is in progress. Please check the step runs for more\n",
       "  details.\n",
       "lifecycleState: SUCCEEDED\n",
       "logDetails:\n",
       "  logGroupId: ocid1.loggroup.oc1.eu-frankfurt-1.amaaaaaangencdyazs4l4rzrzsarlej6mqlwlbz6bmnx4adwdlssveam2jaa\n",
       "  logId: ocid1.log.oc1.eu-frankfurt-1.amaaaaaangencdyap3epybbfuku6hetuwjz2hur6ymxoc3mq7xwj2k6dmssa\n",
       "pipelineId: ocid1.datasciencepipeline.oc1.eu-frankfurt-1.amaaaaaangencdya4wazs7sxdiwpy2ri3debikucebecblmyct5dpompoveq\n",
       "projectId: ocid1.datascienceproject.oc1.eu-frankfurt-1.amaaaaaangencdyarxbilkubzgqjom3vpr4ejxpp6xtw3blfdvuyhd6sggta\n",
       "stepRuns:\n",
       "- lifecycleDetails: ''\n",
       "  lifecycleState: SUCCEEDED\n",
       "  stepName: step1\n",
       "  stepType: CUSTOM_SCRIPT\n",
       "  timeFinished: '2023-06-07T15:13:27.590000Z'\n",
       "  timeStarted: '2023-06-07T15:10:48.699000Z'\n",
       "- lifecycleDetails: ''\n",
       "  lifecycleState: SUCCEEDED\n",
       "  stepName: step2\n",
       "  stepType: CUSTOM_SCRIPT\n",
       "  timeFinished: '2023-06-07T15:16:15.764000Z'\n",
       "  timeStarted: '2023-06-07T15:13:28.582000Z'\n",
       "- lifecycleDetails: ''\n",
       "  lifecycleState: SUCCEEDED\n",
       "  stepName: step3\n",
       "  stepType: CUSTOM_SCRIPT\n",
       "  timeFinished: '2023-06-07T15:19:14.215000Z'\n",
       "  timeStarted: '2023-06-07T15:16:16.643000Z'\n",
       "timeAccepted: '2023-06-07T15:10:36.683000Z'\n",
       "timeFinished: '2023-06-07T15:19:15.052000Z'\n",
       "timeStarted: '2023-06-07T15:10:48.699000Z'\n",
       "timeUpdated: '2023-06-07T15:19:15.418000Z'"
      ]
     },
     "execution_count": 19,
     "metadata": {},
     "output_type": "execute_result"
    }
   ],
   "source": [
    "pipeline_run.watch() # by default it watches custom logs for all steps\n",
    "#pipeline_run.watch(\"step1\",\"step2\") # watches custom logs for \"step1\" and \"step2\""
   ]
  },
  {
   "cell_type": "markdown",
   "id": "2a782509",
   "metadata": {},
   "source": [
    "## View the pipeline run form the OCI console UI"
   ]
  },
  {
   "cell_type": "code",
   "execution_count": null,
   "id": "ae917950",
   "metadata": {
    "vscode": {
     "languageId": "python"
    }
   },
   "outputs": [],
   "source": [
    "print(\"Ctrl-Click the hyperlink to open the pipeline run page in the OCI console UI\")\n",
    "print(\"https://cloud.oracle.com/data-science/pipeline-runs/{}\".format(pipeline_run.id))"
   ]
  },
  {
   "cell_type": "markdown",
   "id": "a54c9495",
   "metadata": {},
   "source": [
    "## Delete the pipeline"
   ]
  },
  {
   "cell_type": "code",
   "execution_count": null,
   "id": "ba9539f9",
   "metadata": {
    "vscode": {
     "languageId": "python"
    }
   },
   "outputs": [],
   "source": [
    "#delete the pipeline when done\n",
    "pipeline.delete(delete_related_pipeline_runs=True, delete_related_job_runs=True)  # delete also all the pipeline runs and job runs in the pipeline, otherwise those have to be deleted before deleting the pipeline"
   ]
  }
 ],
 "metadata": {
  "kernelspec": {
   "display_name": "Python [conda env:prc_pytorch_gpu_v1_0]",
   "language": "python",
   "name": "conda-env-prc_pytorch_gpu_v1_0-py"
  },
  "language_info": {
   "codemirror_mode": {
    "name": "ipython",
    "version": 3
   },
   "file_extension": ".py",
   "mimetype": "text/x-python",
   "name": "python",
   "nbconvert_exporter": "python",
   "pygments_lexer": "ipython3",
   "version": "3.8.13"
  }
 },
 "nbformat": 4,
 "nbformat_minor": 5
}
