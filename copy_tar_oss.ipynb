{
 "cells": [
  {
   "cell_type": "markdown",
   "id": "8d4e5eda",
   "metadata": {},
   "source": [
    "### Copy tar Object Storage"
   ]
  },
  {
   "cell_type": "code",
   "execution_count": 16,
   "id": "be0d3f58",
   "metadata": {},
   "outputs": [],
   "source": [
    "import os\n",
    "import ads\n",
    "import ocifs\n",
    "import glob\n",
    "\n",
    "from ads import set_auth"
   ]
  },
  {
   "cell_type": "code",
   "execution_count": 17,
   "id": "e6f8d649",
   "metadata": {},
   "outputs": [],
   "source": [
    "set_auth(auth='resource_principal')"
   ]
  },
  {
   "cell_type": "code",
   "execution_count": 18,
   "id": "478ceabf",
   "metadata": {},
   "outputs": [],
   "source": [
    "fs = ocifs.OCIFileSystem(profile=\"DEFAULT\")"
   ]
  },
  {
   "cell_type": "code",
   "execution_count": 19,
   "id": "ce25a5d5",
   "metadata": {},
   "outputs": [],
   "source": [
    "BUCKET = \"procco-sw\"\n",
    "NAMESPACE = \"frqap2zhtzbe\"\n",
    "\n",
    "URL = f\"oci://{BUCKET}@{NAMESPACE}\"\n",
    "\n",
    "FILE_NAME = \"test1.tar.gz\""
   ]
  },
  {
   "cell_type": "code",
   "execution_count": 20,
   "id": "54283c89",
   "metadata": {},
   "outputs": [],
   "source": [
    "fs.put(rpath=os.path.join(BUCKET, FILE_NAME), lpath=FILE_NAME)"
   ]
  },
  {
   "cell_type": "code",
   "execution_count": null,
   "id": "e7f93262",
   "metadata": {},
   "outputs": [],
   "source": []
  }
 ],
 "metadata": {
  "kernelspec": {
   "display_name": "Python [conda env:prc_pytorch_gpu_v1_0]",
   "language": "python",
   "name": "conda-env-prc_pytorch_gpu_v1_0-py"
  },
  "language_info": {
   "codemirror_mode": {
    "name": "ipython",
    "version": 3
   },
   "file_extension": ".py",
   "mimetype": "text/x-python",
   "name": "python",
   "nbconvert_exporter": "python",
   "pygments_lexer": "ipython3",
   "version": "3.8.13"
  }
 },
 "nbformat": 4,
 "nbformat_minor": 5
}
