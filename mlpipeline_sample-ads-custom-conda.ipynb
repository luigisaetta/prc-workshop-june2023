{
 "cells": [
  {
   "cell_type": "markdown",
   "id": "f102006d",
   "metadata": {},
   "source": [
    "### OCI Data Science - ML Pipelines sample notebook with ADS - with custom conda environment\n",
    "\n",
    "This sample notebook demonstrates how to use Oracle ADS libfary to create an ML **pipeline** with 3 steps:\n",
    " * the first step sets a paramter for the next step\n",
    " * the second step creates a data table with the number of rows defined in the first step. generated data is random. the data table is then saved to object storage and the name and location of the data is saved as a parameter for the next step.\n",
    " * the third step reads the location of the data and then the data table from the previous step.\n",
    " \n",
    "Note: the notebook creates the pipeline and runs it. The code itself for the steps is located in the 3 zip files mlpipelin_step1,2,3"
   ]
  },
  {
   "cell_type": "code",
   "execution_count": 1,
   "id": "c2b5c144",
   "metadata": {
    "vscode": {
     "languageId": "python"
    }
   },
   "outputs": [],
   "source": [
    "from random import randrange\n",
    "\n",
    "import oci\n",
    "import ads\n",
    "import os\n",
    "from os import environ\n",
    "\n",
    "from ads.catalog.project import ProjectCatalog\n",
    "\n",
    "# ADS for pipelines\n",
    "from ads.pipeline.ads_pipeline_step import PipelineStep\n",
    "from ads.pipeline.ads_pipeline import Pipeline\n",
    "from ads.pipeline import CustomScriptStep\n",
    "from ads.jobs import ScriptRuntime"
   ]
  },
  {
   "cell_type": "code",
   "execution_count": 2,
   "id": "95ca0e92",
   "metadata": {
    "vscode": {
     "languageId": "python"
    }
   },
   "outputs": [
    {
     "name": "stdout",
     "output_type": "stream",
     "text": [
      "2.8.5\n"
     ]
    }
   ],
   "source": [
    "# make sure you are using ADS version 2.8 or above\n",
    "print(ads.__version__)"
   ]
  },
  {
   "cell_type": "code",
   "execution_count": 3,
   "id": "d4557985",
   "metadata": {
    "vscode": {
     "languageId": "python"
    }
   },
   "outputs": [],
   "source": [
    "if 'NB_SESSION_COMPARTMENT_OCID' in os.environ:\n",
    "    # using the notebook's compartment if running on OCI Data Science Notebook Session\n",
    "    compartment_id = os.environ['NB_SESSION_COMPARTMENT_OCID']\n",
    "else:\n",
    "    # set the compartment OCID if you are working locally\n",
    "    compartment_id = '<YOUR_COMPARTMENT_OCID>'"
   ]
  },
  {
   "cell_type": "code",
   "execution_count": 4,
   "id": "8435557b",
   "metadata": {
    "vscode": {
     "languageId": "python"
    }
   },
   "outputs": [
    {
     "name": "stdout",
     "output_type": "stream",
     "text": [
      "using Resource Principal for auth\n"
     ]
    }
   ],
   "source": [
    "# this will work whether working on a local machine (using API key) or in OCI Notebook Session (using Resource Principal)\n",
    "if \"OCI_RESOURCE_PRINCIPAL_VERSION\" in os.environ:\n",
    "    # Use resource principal\n",
    "    print(\"using Resource Principal for auth\")\n",
    "    ads.set_auth(auth=\"resource_principal\")\n",
    "else:\n",
    "    # Use api_key with config file\n",
    "    print(\"using API key for auth\")\n",
    "    ads.set_auth(auth=\"api_key\")    "
   ]
  },
  {
   "cell_type": "code",
   "execution_count": 5,
   "id": "5b5c581a",
   "metadata": {
    "vscode": {
     "languageId": "python"
    }
   },
   "outputs": [],
   "source": [
    "# global settings\n",
    "\n",
    "project_id = \"ocid1.datascienceproject.oc1.eu-frankfurt-1.amaaaaaangencdyarxbilkubzgqjom3vpr4ejxpp6xtw3blfdvuyhd6sggta\"\n",
    "log_group_id = \"ocid1.loggroup.oc1.eu-frankfurt-1.amaaaaaangencdyazs4l4rzrzsarlej6mqlwlbz6bmnx4adwdlssveam2jaa\"\n",
    "\n",
    "pipeline_name = f\"ads_pipeline_sample_prc\""
   ]
  },
  {
   "cell_type": "markdown",
   "id": "b5eda8af",
   "metadata": {},
   "source": [
    "## create a new pipeline with ADS"
   ]
  },
  {
   "cell_type": "code",
   "execution_count": 6,
   "id": "989eea89",
   "metadata": {
    "vscode": {
     "languageId": "python"
    }
   },
   "outputs": [],
   "source": [
    "#\n",
    "# Infrastructure: in this case we use the same VM shape for all the 3 steps...\n",
    "# but, in general, we would have different shapes. Simply define them and use.\n",
    "#\n",
    "\n",
    "NAMESPACE = \"frqap2zhtzbe\"\n",
    "CONDA_BUCKET = \"procco-envs\"\n",
    "\n",
    "CUSTOM_ENV_URI = f\"oci://{CONDA_BUCKET}@{NAMESPACE}/conda_environments/gpu/prc_pytorch_gpu_/1.0/prc_pytorch_gpu_v1_0\"\n",
    "\n",
    "SHAPE_NAME = \"VM.Standard2.4\"\n",
    "STORAGE_SIZE = 100\n",
    "SERVICE_CONDA_NAME = \"onnx110_p37_cpu_v1\"\n",
    "\n",
    "INFRASTRUCTURE = (\n",
    "    CustomScriptStep()\n",
    "    .with_block_storage_size(STORAGE_SIZE)\n",
    "    .with_shape_name(SHAPE_NAME)\n",
    ")\n",
    "\n",
    "step_one = (\n",
    "    PipelineStep(\"step1\")\n",
    "    .with_description(\"Pass data by value\")\n",
    "    .with_infrastructure(INFRASTRUCTURE)\n",
    "    .with_runtime(\n",
    "        ScriptRuntime()\n",
    "        .with_source(\"mlpipeline_step1.zip\")\n",
    "        # .with_service_conda(SERVICE_CONDA_NAME)\n",
    "        .with_custom_conda(CUSTOM_ENV_URI)\n",
    "        .with_environment_variable(\n",
    "            PIPELINE_STEP_RUN_ENTRYPOINT=\"mlpipeline_step1.py\"\n",
    "        )\n",
    "    )\n",
    ")\n",
    "\n",
    "# for step 2 and 3 we need the servuce conda otherwise it fails !\n",
    "step_two = (\n",
    "    PipelineStep(\"step2\")\n",
    "    .with_description(\"pass data by reference\")\n",
    "    .with_infrastructure(INFRASTRUCTURE)\n",
    "    .with_runtime(\n",
    "        ScriptRuntime()\n",
    "        .with_source(\"mlpipeline_step2.zip\")\n",
    "        .with_service_conda(SERVICE_CONDA_NAME)\n",
    "        # .with_custom_conda(CUSTOM_ENV_URI)\n",
    "        .with_environment_variable(\n",
    "            PIPELINE_STEP_RUN_ENTRYPOINT=\"mlpipeline_step2.py\"\n",
    "        )\n",
    "    )\n",
    ")\n",
    "\n",
    "step_three = (\n",
    "    PipelineStep(\"step3\")\n",
    "    .with_description(\"read data by reference\")\n",
    "    .with_infrastructure(INFRASTRUCTURE)\n",
    "    .with_runtime(\n",
    "        ScriptRuntime()\n",
    "        .with_source(\"mlpipeline_step3.zip\")\n",
    "        .with_service_conda(SERVICE_CONDA_NAME)\n",
    "        # .with_custom_conda(CUSTOM_ENV_URI)\n",
    "        .with_environment_variable(\n",
    "            PIPELINE_STEP_RUN_ENTRYPOINT=\"mlpipeline_step3.py\"\n",
    "        )\n",
    "    )\n",
    ")"
   ]
  },
  {
   "cell_type": "markdown",
   "id": "53741e21",
   "metadata": {},
   "source": [
    "#### Here we define the DAG"
   ]
  },
  {
   "cell_type": "code",
   "execution_count": 7,
   "id": "559b9aa2",
   "metadata": {
    "vscode": {
     "languageId": "python"
    }
   },
   "outputs": [],
   "source": [
    "pipeline = (\n",
    "    Pipeline(pipeline_name)\n",
    "    .with_compartment_id(compartment_id)\n",
    "    .with_project_id(project_id)\n",
    "    .with_log_group_id(log_group_id)  # if you define the LogGroupID but not the LogID, logs will be created automatically in the specified LogGroup\n",
    "    .with_step_details([step_one, step_two, step_three])\n",
    "    .with_dag([\"step1 >> step2 >> step3\"])                                                     \n",
    ") # Use () to define multiple step dependencies, like (step1, step2) >> step3 to run step1 and step2 in parallel and step3 when they both finish"
   ]
  },
  {
   "cell_type": "code",
   "execution_count": 8,
   "id": "8ccdf47d",
   "metadata": {
    "vscode": {
     "languageId": "python"
    }
   },
   "outputs": [
    {
     "data": {
      "image/svg+xml": [
       "<?xml version=\"1.0\" encoding=\"UTF-8\" standalone=\"no\"?>\n",
       "<!DOCTYPE svg PUBLIC \"-//W3C//DTD SVG 1.1//EN\"\n",
       " \"http://www.w3.org/Graphics/SVG/1.1/DTD/svg11.dtd\">\n",
       "<!-- Generated by graphviz version 2.30.1 (20200602.1248)\n",
       " -->\n",
       "<!-- Title: %3 Pages: 1 -->\n",
       "<svg width=\"186pt\" height=\"308pt\"\n",
       " viewBox=\"0.00 0.00 186.00 308.00\" xmlns=\"http://www.w3.org/2000/svg\" xmlns:xlink=\"http://www.w3.org/1999/xlink\">\n",
       "<g id=\"graph0\" class=\"graph\" transform=\"scale(1 1) rotate(0) translate(4 304)\">\n",
       "<title>%3</title>\n",
       "<polygon fill=\"white\" stroke=\"white\" points=\"-4,5 -4,-304 183,-304 183,5 -4,5\"/>\n",
       "<!-- ads_pipeline_sample_prc_pipeline -->\n",
       "<g id=\"node1\" class=\"node\"><title>ads_pipeline_sample_prc_pipeline</title>\n",
       "<path fill=\"#747e7e\" stroke=\"#dedede\" d=\"M166.25,-300C166.25,-300 11.75,-300 11.75,-300 5.75,-300 -0.25,-294 -0.25,-288 -0.25,-288 -0.25,-264 -0.25,-264 -0.25,-258 5.75,-252 11.75,-252 11.75,-252 166.25,-252 166.25,-252 172.25,-252 178.25,-258 178.25,-264 178.25,-264 178.25,-288 178.25,-288 178.25,-294 172.25,-300 166.25,-300\"/>\n",
       "<text text-anchor=\"start\" x=\"12.5\" y=\"-281.3\" font-family=\"Helvetica,Arial,sans-serif\" font-size=\"14.00\" fill=\"white\">ads_pipeline_sample_prc</text>\n",
       "<text text-anchor=\"start\" x=\"70\" y=\"-263.2\" font-family=\"Helvetica,Arial,sans-serif\" font-size=\"11.00\" fill=\"white\">Pipeline</text>\n",
       "</g>\n",
       "<!-- step1_custom_script -->\n",
       "<g id=\"node2\" class=\"node\"><title>step1_custom_script</title>\n",
       "<path fill=\"#747e7e\" stroke=\"#dedede\" d=\"M124,-216C124,-216 54,-216 54,-216 48,-216 42,-210 42,-204 42,-204 42,-180 42,-180 42,-174 48,-168 54,-168 54,-168 124,-168 124,-168 130,-168 136,-174 136,-180 136,-180 136,-204 136,-204 136,-210 130,-216 124,-216\"/>\n",
       "<text text-anchor=\"start\" x=\"72\" y=\"-197.3\" font-family=\"Helvetica,Arial,sans-serif\" font-size=\"14.00\" fill=\"white\">step1</text>\n",
       "<text text-anchor=\"start\" x=\"54.5\" y=\"-179.2\" font-family=\"Helvetica,Arial,sans-serif\" font-size=\"11.00\" fill=\"white\">Custom Script</text>\n",
       "</g>\n",
       "<!-- ads_pipeline_sample_prc_pipeline&#45;&gt;step1_custom_script -->\n",
       "<g id=\"edge1\" class=\"edge\"><title>ads_pipeline_sample_prc_pipeline&#45;&gt;step1_custom_script</title>\n",
       "<path fill=\"none\" stroke=\"black\" d=\"M89,-251.721C89,-243.777 89,-234.734 89,-226.164\"/>\n",
       "<polygon fill=\"black\" stroke=\"black\" points=\"92.5001,-226.053 89,-216.053 85.5001,-226.053 92.5001,-226.053\"/>\n",
       "</g>\n",
       "<!-- step2_custom_script -->\n",
       "<g id=\"node3\" class=\"node\"><title>step2_custom_script</title>\n",
       "<path fill=\"#747e7e\" stroke=\"#dedede\" d=\"M124,-132C124,-132 54,-132 54,-132 48,-132 42,-126 42,-120 42,-120 42,-96 42,-96 42,-90 48,-84 54,-84 54,-84 124,-84 124,-84 130,-84 136,-90 136,-96 136,-96 136,-120 136,-120 136,-126 130,-132 124,-132\"/>\n",
       "<text text-anchor=\"start\" x=\"72\" y=\"-113.3\" font-family=\"Helvetica,Arial,sans-serif\" font-size=\"14.00\" fill=\"white\">step2</text>\n",
       "<text text-anchor=\"start\" x=\"54.5\" y=\"-95.2\" font-family=\"Helvetica,Arial,sans-serif\" font-size=\"11.00\" fill=\"white\">Custom Script</text>\n",
       "</g>\n",
       "<!-- step1_custom_script&#45;&gt;step2_custom_script -->\n",
       "<g id=\"edge2\" class=\"edge\"><title>step1_custom_script&#45;&gt;step2_custom_script</title>\n",
       "<path fill=\"none\" stroke=\"black\" d=\"M89,-167.721C89,-159.777 89,-150.734 89,-142.164\"/>\n",
       "<polygon fill=\"black\" stroke=\"black\" points=\"92.5001,-142.053 89,-132.053 85.5001,-142.053 92.5001,-142.053\"/>\n",
       "</g>\n",
       "<!-- step3_custom_script -->\n",
       "<g id=\"node4\" class=\"node\"><title>step3_custom_script</title>\n",
       "<path fill=\"#747e7e\" stroke=\"#dedede\" d=\"M124,-48C124,-48 54,-48 54,-48 48,-48 42,-42 42,-36 42,-36 42,-12 42,-12 42,-6 48,-0 54,-0 54,-0 124,-0 124,-0 130,-0 136,-6 136,-12 136,-12 136,-36 136,-36 136,-42 130,-48 124,-48\"/>\n",
       "<text text-anchor=\"start\" x=\"72\" y=\"-29.3\" font-family=\"Helvetica,Arial,sans-serif\" font-size=\"14.00\" fill=\"white\">step3</text>\n",
       "<text text-anchor=\"start\" x=\"54.5\" y=\"-11.2\" font-family=\"Helvetica,Arial,sans-serif\" font-size=\"11.00\" fill=\"white\">Custom Script</text>\n",
       "</g>\n",
       "<!-- step2_custom_script&#45;&gt;step3_custom_script -->\n",
       "<g id=\"edge3\" class=\"edge\"><title>step2_custom_script&#45;&gt;step3_custom_script</title>\n",
       "<path fill=\"none\" stroke=\"black\" d=\"M89,-83.7214C89,-75.7771 89,-66.7336 89,-58.1645\"/>\n",
       "<polygon fill=\"black\" stroke=\"black\" points=\"92.5001,-58.0529 89,-48.053 85.5001,-58.053 92.5001,-58.0529\"/>\n",
       "</g>\n",
       "</g>\n",
       "</svg>\n"
      ],
      "text/plain": [
       "<graphviz.dot.Digraph at 0x7f4f70698a90>"
      ]
     },
     "metadata": {},
     "output_type": "display_data"
    }
   ],
   "source": [
    "# view the pipeline graph visually, make sure you have the step dependencies defined correctly before creating the pipeline\n",
    "pipeline.show()"
   ]
  },
  {
   "cell_type": "code",
   "execution_count": 9,
   "id": "44a3716d",
   "metadata": {
    "vscode": {
     "languageId": "python"
    }
   },
   "outputs": [
    {
     "data": {
      "text/plain": [
       "\n",
       "kind: pipeline\n",
       "spec:\n",
       "  compartmentId: ocid1.compartment.oc1..aaaaaaaag2cpni5qj6li5ny6ehuahhepbpveopobooayqfeudqygdtfe6h3a\n",
       "  dag:\n",
       "  - step1 >> step2 >> step3\n",
       "  displayName: ads_pipeline_sample_prc\n",
       "  id: ocid1.datasciencepipeline.oc1.eu-frankfurt-1.amaaaaaangencdyaoafpm4yva775ffulaiwo5phiyyswzhpqo6u2glf54vla\n",
       "  logGroupId: ocid1.loggroup.oc1.eu-frankfurt-1.amaaaaaangencdyazs4l4rzrzsarlej6mqlwlbz6bmnx4adwdlssveam2jaa\n",
       "  projectId: ocid1.datascienceproject.oc1.eu-frankfurt-1.amaaaaaangencdyarxbilkubzgqjom3vpr4ejxpp6xtw3blfdvuyhd6sggta\n",
       "  stepDetails:\n",
       "  - kind: customScript\n",
       "    spec:\n",
       "      description: Pass data by value\n",
       "      infrastructure:\n",
       "        kind: infrastructure\n",
       "        spec:\n",
       "          blockStorageSize: 100\n",
       "          shapeName: VM.Standard2.4\n",
       "      name: step1\n",
       "      runtime:\n",
       "        kind: runtime\n",
       "        spec:\n",
       "          conda:\n",
       "            type: published\n",
       "            uri: oci://procco-envs@frqap2zhtzbe/conda_environments/gpu/prc_pytorch_gpu_/1.0/prc_pytorch_gpu_v1_0\n",
       "          env:\n",
       "          - name: PIPELINE_STEP_RUN_ENTRYPOINT\n",
       "            value: mlpipeline_step1.py\n",
       "          scriptPathURI: mlpipeline_step1.zip\n",
       "        type: script\n",
       "  - kind: customScript\n",
       "    spec:\n",
       "      description: pass data by reference\n",
       "      infrastructure:\n",
       "        kind: infrastructure\n",
       "        spec:\n",
       "          blockStorageSize: 100\n",
       "          shapeName: VM.Standard2.4\n",
       "      name: step2\n",
       "      runtime:\n",
       "        kind: runtime\n",
       "        spec:\n",
       "          conda:\n",
       "            slug: onnx110_p37_cpu_v1\n",
       "            type: service\n",
       "          env:\n",
       "          - name: PIPELINE_STEP_RUN_ENTRYPOINT\n",
       "            value: mlpipeline_step2.py\n",
       "          scriptPathURI: mlpipeline_step2.zip\n",
       "        type: script\n",
       "  - kind: customScript\n",
       "    spec:\n",
       "      description: read data by reference\n",
       "      infrastructure:\n",
       "        kind: infrastructure\n",
       "        spec:\n",
       "          blockStorageSize: 100\n",
       "          shapeName: VM.Standard2.4\n",
       "      name: step3\n",
       "      runtime:\n",
       "        kind: runtime\n",
       "        spec:\n",
       "          conda:\n",
       "            type: published\n",
       "            uri: oci://procco-envs@frqap2zhtzbe/conda_environments/gpu/prc_pytorch_gpu_/1.0/prc_pytorch_gpu_v1_0\n",
       "          env:\n",
       "          - name: PIPELINE_STEP_RUN_ENTRYPOINT\n",
       "            value: mlpipeline_step3.py\n",
       "          scriptPathURI: mlpipeline_step3.zip\n",
       "        type: script\n",
       "type: pipeline"
      ]
     },
     "execution_count": 9,
     "metadata": {},
     "output_type": "execute_result"
    }
   ],
   "source": [
    "#create the pipeline in the OCI Data Science service. ADS will take care of uploading all the artifacts \n",
    "pipeline.create()"
   ]
  },
  {
   "cell_type": "code",
   "execution_count": 10,
   "id": "0669c18c",
   "metadata": {
    "vscode": {
     "languageId": "python"
    }
   },
   "outputs": [],
   "source": [
    "# you can export the pipeline to a YAML file and later import it back\n",
    "# pipeline.to_yaml(\"my_pipeline.yaml\")"
   ]
  },
  {
   "cell_type": "markdown",
   "id": "25ff1a12",
   "metadata": {},
   "source": [
    "## Run the pipeline"
   ]
  },
  {
   "cell_type": "code",
   "execution_count": 11,
   "id": "db2f1c9b",
   "metadata": {
    "vscode": {
     "languageId": "python"
    }
   },
   "outputs": [],
   "source": [
    "pipeline_run_name = f\"pipeline-run-prc01\""
   ]
  },
  {
   "cell_type": "code",
   "execution_count": 12,
   "id": "2454d986",
   "metadata": {
    "vscode": {
     "languageId": "python"
    }
   },
   "outputs": [],
   "source": [
    "# uncomment the next line and set to the OCI Object Storage location to use for passing data. Make sure you have proper permissions.\n",
    "data_location = \"oci://procco-data@frqap2zhtzbe/\"  # use: 'oci://<bucket>@<workspace>/'"
   ]
  },
  {
   "cell_type": "code",
   "execution_count": 13,
   "id": "d2957565",
   "metadata": {
    "vscode": {
     "languageId": "python"
    }
   },
   "outputs": [],
   "source": [
    "# create the pipeline run\n",
    "pipeline_run = pipeline.run(\n",
    "    configuration_override_details = {\n",
    "    \"type\": \"DEFAULT\",\n",
    "    \"environment_variables\": {\"DATA_LOCATION\": data_location}\n",
    "    }\n",
    ")"
   ]
  },
  {
   "cell_type": "code",
   "execution_count": 14,
   "id": "bb861cc2",
   "metadata": {
    "vscode": {
     "languageId": "python"
    }
   },
   "outputs": [
    {
     "name": "stdout",
     "output_type": "stream",
     "text": [
      "ACCEPTED\n"
     ]
    }
   ],
   "source": [
    "print(pipeline_run.status)"
   ]
  },
  {
   "cell_type": "code",
   "execution_count": null,
   "id": "b8479c9f",
   "metadata": {
    "vscode": {
     "languageId": "python"
    }
   },
   "outputs": [
    {
     "data": {
      "image/svg+xml": [
       "<?xml version=\"1.0\" encoding=\"UTF-8\" standalone=\"no\"?>\n",
       "<!DOCTYPE svg PUBLIC \"-//W3C//DTD SVG 1.1//EN\"\n",
       " \"http://www.w3.org/Graphics/SVG/1.1/DTD/svg11.dtd\">\n",
       "<!-- Generated by graphviz version 2.30.1 (20200602.1248)\n",
       " -->\n",
       "<!-- Title: %3 Pages: 1 -->\n",
       "<svg width=\"186pt\" height=\"532pt\"\n",
       " viewBox=\"0.00 0.00 186.00 532.00\" xmlns=\"http://www.w3.org/2000/svg\" xmlns:xlink=\"http://www.w3.org/1999/xlink\">\n",
       "<g id=\"graph0\" class=\"graph\" transform=\"scale(1 1) rotate(0) translate(4 528)\">\n",
       "<title>%3</title>\n",
       "<polygon fill=\"white\" stroke=\"white\" points=\"-4,5 -4,-528 183,-528 183,5 -4,5\"/>\n",
       "<!-- ads_pipeline_sample_prc_pipeline -->\n",
       "<g id=\"node1\" class=\"node\"><title>ads_pipeline_sample_prc_pipeline</title>\n",
       "<path fill=\"#3e975d\" stroke=\"#dedede\" d=\"M166.25,-524C166.25,-524 11.75,-524 11.75,-524 5.75,-524 -0.25,-518 -0.25,-512 -0.25,-512 -0.25,-454 -0.25,-454 -0.25,-448 5.75,-442 11.75,-442 11.75,-442 166.25,-442 166.25,-442 172.25,-442 178.25,-448 178.25,-454 178.25,-454 178.25,-512 178.25,-512 178.25,-518 172.25,-524 166.25,-524\"/>\n",
       "<text text-anchor=\"start\" x=\"12.5\" y=\"-505.3\" font-family=\"Helvetica,Arial,sans-serif\" font-size=\"14.00\" fill=\"white\">ads_pipeline_sample_prc</text>\n",
       "<text text-anchor=\"start\" x=\"70\" y=\"-487.2\" font-family=\"Helvetica,Arial,sans-serif\" font-size=\"11.00\" fill=\"white\">Pipeline</text>\n",
       "<text text-anchor=\"start\" x=\"52\" y=\"-470.2\" font-family=\"Courier New\" font-size=\"11.00\" fill=\"white\">In Progress</text>\n",
       "<text text-anchor=\"start\" x=\"59\" y=\"-453.2\" font-family=\"Courier New\" font-size=\"11.00\" fill=\"white\">00:02:17 </text>\n",
       "</g>\n",
       "<!-- step1_custom_script -->\n",
       "<g id=\"node2\" class=\"node\"><title>step1_custom_script</title>\n",
       "<path fill=\"#f26b1d\" stroke=\"#dedede\" d=\"M124,-406C124,-406 54,-406 54,-406 48,-406 42,-400 42,-394 42,-394 42,-336 42,-336 42,-330 48,-324 54,-324 54,-324 124,-324 124,-324 130,-324 136,-330 136,-336 136,-336 136,-394 136,-394 136,-400 130,-406 124,-406\"/>\n",
       "<text text-anchor=\"start\" x=\"72\" y=\"-387.3\" font-family=\"Helvetica,Arial,sans-serif\" font-size=\"14.00\" fill=\"white\">step1</text>\n",
       "<text text-anchor=\"start\" x=\"54.5\" y=\"-369.2\" font-family=\"Helvetica,Arial,sans-serif\" font-size=\"11.00\" fill=\"white\">Custom Script</text>\n",
       "<text text-anchor=\"start\" x=\"61.5\" y=\"-352.2\" font-family=\"Courier New\" font-size=\"11.00\" fill=\"white\">Accepted</text>\n",
       "<text text-anchor=\"start\" x=\"58.5\" y=\"-335.2\" font-family=\"Courier New\" font-size=\"11.00\" fill=\"white\">00:02:06 </text>\n",
       "</g>\n",
       "<!-- ads_pipeline_sample_prc_pipeline&#45;&gt;step1_custom_script -->\n",
       "<g id=\"edge1\" class=\"edge\"><title>ads_pipeline_sample_prc_pipeline&#45;&gt;step1_custom_script</title>\n",
       "<path fill=\"none\" stroke=\"black\" d=\"M89,-441.754C89,-433.567 89,-424.856 89,-416.368\"/>\n",
       "<polygon fill=\"black\" stroke=\"black\" points=\"92.5001,-416.174 89,-406.174 85.5001,-416.175 92.5001,-416.174\"/>\n",
       "</g>\n",
       "<!-- step2_custom_script -->\n",
       "<g id=\"node3\" class=\"node\"><title>step2_custom_script</title>\n",
       "<path fill=\"#747e7e\" stroke=\"#dedede\" d=\"M124,-288C124,-288 54,-288 54,-288 48,-288 42,-282 42,-276 42,-276 42,-218 42,-218 42,-212 48,-206 54,-206 54,-206 124,-206 124,-206 130,-206 136,-212 136,-218 136,-218 136,-276 136,-276 136,-282 130,-288 124,-288\"/>\n",
       "<text text-anchor=\"start\" x=\"72\" y=\"-269.3\" font-family=\"Helvetica,Arial,sans-serif\" font-size=\"14.00\" fill=\"white\">step2</text>\n",
       "<text text-anchor=\"start\" x=\"54.5\" y=\"-251.2\" font-family=\"Helvetica,Arial,sans-serif\" font-size=\"11.00\" fill=\"white\">Custom Script</text>\n",
       "<text text-anchor=\"start\" x=\"65\" y=\"-234.2\" font-family=\"Courier New\" font-size=\"11.00\" fill=\"white\">Waiting</text>\n",
       "<text text-anchor=\"start\" x=\"85.5\" y=\"-217.2\" font-family=\"Courier New\" font-size=\"11.00\" fill=\"white\"> </text>\n",
       "</g>\n",
       "<!-- step1_custom_script&#45;&gt;step2_custom_script -->\n",
       "<g id=\"edge2\" class=\"edge\"><title>step1_custom_script&#45;&gt;step2_custom_script</title>\n",
       "<path fill=\"none\" stroke=\"black\" d=\"M89,-323.754C89,-315.567 89,-306.856 89,-298.368\"/>\n",
       "<polygon fill=\"black\" stroke=\"black\" points=\"92.5001,-298.174 89,-288.174 85.5001,-298.175 92.5001,-298.174\"/>\n",
       "</g>\n",
       "<!-- step3_custom_script -->\n",
       "<g id=\"node4\" class=\"node\"><title>step3_custom_script</title>\n",
       "<path fill=\"#747e7e\" stroke=\"#dedede\" d=\"M124,-170C124,-170 54,-170 54,-170 48,-170 42,-164 42,-158 42,-158 42,-100 42,-100 42,-94 48,-88 54,-88 54,-88 124,-88 124,-88 130,-88 136,-94 136,-100 136,-100 136,-158 136,-158 136,-164 130,-170 124,-170\"/>\n",
       "<text text-anchor=\"start\" x=\"72\" y=\"-151.3\" font-family=\"Helvetica,Arial,sans-serif\" font-size=\"14.00\" fill=\"white\">step3</text>\n",
       "<text text-anchor=\"start\" x=\"54.5\" y=\"-133.2\" font-family=\"Helvetica,Arial,sans-serif\" font-size=\"11.00\" fill=\"white\">Custom Script</text>\n",
       "<text text-anchor=\"start\" x=\"65\" y=\"-116.2\" font-family=\"Courier New\" font-size=\"11.00\" fill=\"white\">Waiting</text>\n",
       "<text text-anchor=\"start\" x=\"85.5\" y=\"-99.2\" font-family=\"Courier New\" font-size=\"11.00\" fill=\"white\"> </text>\n",
       "</g>\n",
       "<!-- step2_custom_script&#45;&gt;step3_custom_script -->\n",
       "<g id=\"edge3\" class=\"edge\"><title>step2_custom_script&#45;&gt;step3_custom_script</title>\n",
       "<path fill=\"none\" stroke=\"black\" d=\"M89,-205.754C89,-197.567 89,-188.856 89,-180.368\"/>\n",
       "<polygon fill=\"black\" stroke=\"black\" points=\"92.5001,-180.174 89,-170.174 85.5001,-180.175 92.5001,-180.174\"/>\n",
       "</g>\n",
       "<!-- Done -->\n",
       "<g id=\"node5\" class=\"node\"><title>Done</title>\n",
       "<path fill=\"#747e7e\" stroke=\"#dedede\" d=\"M131.397,-23.5147C131.397,-23.5147 131.397,-28.4853 131.397,-28.4853 131.397,-30.9706 129.11,-34.4271 126.822,-35.3983 126.822,-35.3983 111.137,-42.0575 111.137,-42.0575 108.849,-43.0288 104.076,-44 101.591,-44 101.591,-44 76.409,-44 76.409,-44 73.9237,-44 69.1507,-43.0288 66.8631,-42.0575 66.8631,-42.0575 51.1778,-35.3983 51.1778,-35.3983 48.8902,-34.4271 46.6025,-30.9706 46.6025,-28.4853 46.6025,-28.4853 46.6025,-23.5147 46.6025,-23.5147 46.6025,-21.0294 48.8902,-17.5729 51.1778,-16.6017 51.1778,-16.6017 66.8631,-9.94246 66.8631,-9.94246 69.1507,-8.97123 73.9237,-8 76.409,-8 76.409,-8 101.591,-8 101.591,-8 104.076,-8 108.849,-8.97123 111.137,-9.94246 111.137,-9.94246 126.822,-16.6017 126.822,-16.6017 129.11,-17.5729 131.397,-21.0294 131.397,-23.5147\"/>\n",
       "<path fill=\"none\" stroke=\"#dedede\" d=\"M135.353,-22.6284C135.353,-22.6284 135.353,-29.3716 135.353,-29.3716 135.353,-32.7431 132.25,-37.4323 129.146,-38.7498 129.146,-38.7498 113.565,-45.3648 113.565,-45.3648 110.462,-46.6824 103.987,-48 100.615,-48 100.615,-48 77.3848,-48 77.3848,-48 74.0132,-48 67.5382,-46.6824 64.4348,-45.3648 64.4348,-45.3648 48.8537,-38.7498 48.8537,-38.7498 45.7502,-37.4323 42.6468,-32.7431 42.6468,-29.3716 42.6468,-29.3716 42.6468,-22.6284 42.6468,-22.6284 42.6468,-19.2569 45.7502,-14.5677 48.8537,-13.2502 48.8537,-13.2502 64.4348,-6.63516 64.4348,-6.63516 67.5382,-5.31758 74.0132,-4 77.3848,-4 77.3848,-4 100.615,-4 100.615,-4 103.987,-4 110.462,-5.31758 113.565,-6.63516 113.565,-6.63516 129.146,-13.2502 129.146,-13.2502 132.25,-14.5677 135.353,-19.2569 135.353,-22.6284\"/>\n",
       "<path fill=\"none\" stroke=\"#dedede\" d=\"M139.309,-21.7422C139.309,-21.7422 139.309,-30.2578 139.309,-30.2578 139.309,-34.5157 135.39,-40.4374 131.47,-42.1014 131.47,-42.1014 115.994,-48.6721 115.994,-48.6721 112.074,-50.3361 103.897,-52 99.6394,-52 99.6394,-52 78.3606,-52 78.3606,-52 74.1028,-52 65.9257,-50.3361 62.0064,-48.6721 62.0064,-48.6721 46.5295,-42.1014 46.5295,-42.1014 42.6103,-40.4374 38.691,-34.5157 38.691,-30.2578 38.691,-30.2578 38.691,-21.7422 38.691,-21.7422 38.691,-17.4843 42.6103,-11.5626 46.5295,-9.89864 46.5295,-9.89864 62.0064,-3.32786 62.0064,-3.32786 65.9257,-1.66393 74.1028,-3.15786e-15 78.3606,-2.76301e-15 78.3606,-2.76301e-15 99.6394,-7.89705e-16 99.6394,-7.89705e-16 103.897,-3.94852e-16 112.074,-1.66393 115.994,-3.32786 115.994,-3.32786 131.47,-9.89864 131.47,-9.89864 135.39,-11.5626 139.309,-17.4843 139.309,-21.7422\"/>\n",
       "<text text-anchor=\"start\" x=\"69\" y=\"-22.7\" font-family=\"Helvetica,Arial,sans-serif\" font-weight=\"bold\" font-size=\"16.00\" fill=\"white\">Done</text>\n",
       "</g>\n",
       "<!-- step3_custom_script&#45;&gt;Done -->\n",
       "<g id=\"edge4\" class=\"edge\"><title>step3_custom_script&#45;&gt;Done</title>\n",
       "<path fill=\"none\" stroke=\"black\" d=\"M89,-87.7919C89,-79.3598 89,-70.5278 89,-62.2912\"/>\n",
       "<polygon fill=\"black\" stroke=\"black\" points=\"92.5001,-62.2514 89,-52.2514 85.5001,-62.2515 92.5001,-62.2514\"/>\n",
       "</g>\n",
       "</g>\n",
       "</svg>\n"
      ],
      "text/plain": [
       "<graphviz.dot.Digraph at 0x7f4f2af557f0>"
      ]
     },
     "metadata": {},
     "output_type": "display_data"
    }
   ],
   "source": [
    "# View the pipeline run graph with status of each step\n",
    "pipeline_run.show(wait=True)\n",
    "\n",
    "# you can keep watching the status updates using the following command\n",
    "#pipeline_run.show(wait=True)"
   ]
  },
  {
   "cell_type": "markdown",
   "id": "6021b45f",
   "metadata": {},
   "source": [
    "## view logs"
   ]
  },
  {
   "cell_type": "code",
   "execution_count": null,
   "id": "e95a7d78",
   "metadata": {
    "vscode": {
     "languageId": "python"
    }
   },
   "outputs": [],
   "source": [
    "pipeline_run.watch() # by default it watches custom logs for all steps\n",
    "#pipeline_run.watch(\"step1\",\"step2\") # watches custom logs for \"step1\" and \"step2\""
   ]
  },
  {
   "cell_type": "markdown",
   "id": "fb782d36",
   "metadata": {},
   "source": [
    "## View the pipeline run form the OCI console UI"
   ]
  },
  {
   "cell_type": "code",
   "execution_count": null,
   "id": "b4e29e0a",
   "metadata": {
    "vscode": {
     "languageId": "python"
    }
   },
   "outputs": [],
   "source": [
    "print(\"Ctrl-Click the hyperlink to open the pipeline run page in the OCI console UI\")\n",
    "print(\"https://cloud.oracle.com/data-science/pipeline-runs/{}\".format(pipeline_run.id))"
   ]
  },
  {
   "cell_type": "markdown",
   "id": "4749b7a0",
   "metadata": {},
   "source": [
    "## Delete the pipeline"
   ]
  },
  {
   "cell_type": "code",
   "execution_count": null,
   "id": "246b9088",
   "metadata": {
    "vscode": {
     "languageId": "python"
    }
   },
   "outputs": [],
   "source": [
    "#delete the pipeline when done\n",
    "pipeline.delete(delete_related_pipeline_runs=True, delete_related_job_runs=True)  # delete also all the pipeline runs and job runs in the pipeline, otherwise those have to be deleted before deleting the pipeline"
   ]
  }
 ],
 "metadata": {
  "kernelspec": {
   "display_name": "Python [conda env:prc_pytorch_gpu_v1_0]",
   "language": "python",
   "name": "conda-env-prc_pytorch_gpu_v1_0-py"
  },
  "language_info": {
   "codemirror_mode": {
    "name": "ipython",
    "version": 3
   },
   "file_extension": ".py",
   "mimetype": "text/x-python",
   "name": "python",
   "nbconvert_exporter": "python",
   "pygments_lexer": "ipython3",
   "version": "3.8.13"
  }
 },
 "nbformat": 4,
 "nbformat_minor": 5
}
