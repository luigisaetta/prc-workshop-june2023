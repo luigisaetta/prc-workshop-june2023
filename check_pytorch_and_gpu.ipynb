{
 "cells": [
  {
   "cell_type": "markdown",
   "id": "e780d855",
   "metadata": {},
   "source": [
    "### Test PyTorch and GPU\n",
    "We check that:\n",
    "* **PyTorch** is installed\n",
    "* installed version\n",
    "* Pytorch is able to use **GPU**"
   ]
  },
  {
   "cell_type": "code",
   "execution_count": 1,
   "id": "af650696",
   "metadata": {},
   "outputs": [],
   "source": [
    "import torch\n",
    "import ads"
   ]
  },
  {
   "cell_type": "code",
   "execution_count": 2,
   "id": "4df5288a",
   "metadata": {},
   "outputs": [
    {
     "name": "stdout",
     "output_type": "stream",
     "text": [
      "PyTorch version is: 2.0.1+cu117\n",
      "ADS version is: 2.8.5\n"
     ]
    }
   ],
   "source": [
    "print(f\"PyTorch version is: {torch.__version__}\")\n",
    "print(f\"ADS version is: {ads.__version__}\")"
   ]
  },
  {
   "cell_type": "code",
   "execution_count": 5,
   "id": "053a4aca",
   "metadata": {},
   "outputs": [
    {
     "name": "stdout",
     "output_type": "stream",
     "text": [
      "Is CUDA available: True\n",
      "We have 1 GPU\n"
     ]
    }
   ],
   "source": [
    "# check that access to GPU is OK\n",
    "print(f\"Is CUDA available: {torch.cuda.is_available()}\")\n",
    "\n",
    "# how many GPUs?\n",
    "print(f\"We have {torch.cuda.device_count()} GPU\")"
   ]
  },
  {
   "cell_type": "code",
   "execution_count": 6,
   "id": "edac49f2",
   "metadata": {},
   "outputs": [
    {
     "name": "stdout",
     "output_type": "stream",
     "text": [
      "Mon Jun 12 13:16:29 2023       \n",
      "+-----------------------------------------------------------------------------+\n",
      "| NVIDIA-SMI 510.108.03   Driver Version: 510.108.03   CUDA Version: 11.6     |\n",
      "|-------------------------------+----------------------+----------------------+\n",
      "| GPU  Name        Persistence-M| Bus-Id        Disp.A | Volatile Uncorr. ECC |\n",
      "| Fan  Temp  Perf  Pwr:Usage/Cap|         Memory-Usage | GPU-Util  Compute M. |\n",
      "|                               |                      |               MIG M. |\n",
      "|===============================+======================+======================|\n",
      "|   0  NVIDIA A10          Off  | 00000000:00:04.0 Off |                    0 |\n",
      "|  0%   26C    P8    15W / 150W |      2MiB / 23028MiB |      0%      Default |\n",
      "|                               |                      |                  N/A |\n",
      "+-------------------------------+----------------------+----------------------+\n",
      "                                                                               \n",
      "+-----------------------------------------------------------------------------+\n",
      "| Processes:                                                                  |\n",
      "|  GPU   GI   CI        PID   Type   Process name                  GPU Memory |\n",
      "|        ID   ID                                                   Usage      |\n",
      "|=============================================================================|\n",
      "|  No running processes found                                                 |\n",
      "+-----------------------------------------------------------------------------+\n"
     ]
    }
   ],
   "source": [
    "# running this NVIDIA os utility we can see many info around GPU (mem, etc..)\n",
    "!nvidia-smi"
   ]
  },
  {
   "cell_type": "code",
   "execution_count": null,
   "id": "6f7b9218",
   "metadata": {},
   "outputs": [],
   "source": []
  }
 ],
 "metadata": {
  "kernelspec": {
   "display_name": "Python [conda env:prc_pytorch_gpu_v1_0]",
   "language": "python",
   "name": "conda-env-prc_pytorch_gpu_v1_0-py"
  },
  "language_info": {
   "codemirror_mode": {
    "name": "ipython",
    "version": 3
   },
   "file_extension": ".py",
   "mimetype": "text/x-python",
   "name": "python",
   "nbconvert_exporter": "python",
   "pygments_lexer": "ipython3",
   "version": "3.8.13"
  }
 },
 "nbformat": 4,
 "nbformat_minor": 5
}
